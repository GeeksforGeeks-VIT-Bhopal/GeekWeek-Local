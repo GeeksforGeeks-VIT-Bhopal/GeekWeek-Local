{
  "nbformat": 4,
  "nbformat_minor": 0,
  "metadata": {
    "colab": {
      "name": "3a_Univariate.ipynb",
      "provenance": [],
      "authorship_tag": "ABX9TyNB/OYG87zOrhASjEWCJCYw",
      "include_colab_link": true
    },
    "kernelspec": {
      "name": "python3",
      "display_name": "Python 3"
    },
    "language_info": {
      "name": "python"
    }
  },
  "cells": [
    {
      "cell_type": "markdown",
      "metadata": {
        "id": "view-in-github",
        "colab_type": "text"
      },
      "source": [
        "<a href=\"https://colab.research.google.com/github/shashwat-2077/GeekWeek-Local/blob/main/03_LinearRegression/3a_Univariate.ipynb\" target=\"_parent\"><img src=\"https://colab.research.google.com/assets/colab-badge.svg\" alt=\"Open In Colab\"/></a>"
      ]
    },
    {
      "cell_type": "markdown",
      "metadata": {
        "id": "BFR-NsE66f6E"
      },
      "source": [
        "> This notebook was created for code illustration of the `ML.now()` course\n",
        "\n",
        "\n",
        "`Univariate Linear Regression`\n",
        "\n",
        "[Link to Download the dataset](https://archive.ics.uci.edu/ml/datasets/Student+Performance)\n",
        "\n",
        "**Date Created**: June 6, 2021\n",
        "\n",
        "\n",
        "**Author**:\n",
        " Shashwat PaPattanayak \n",
        "\n",
        "**Reach out**:\n",
        "[Email](https://www.google.com/intl/en-GB/gmail/about/#) | [GitHub](https://github.com/shashwat-2077) | [LinkedIn](https://www.linkedin.com/in/)\n",
        "\n",
        "[[Course Repository](https://github.com/shashwat-2077/MLnow_GirlScript)]\n",
        "\n",
        "Feel free to check out my [website](http://shashwat-2077.github.io/) for more information"
      ]
    },
    {
      "cell_type": "markdown",
      "metadata": {
        "id": "qQqywmPS6liE"
      },
      "source": [
        "#Setup"
      ]
    },
    {
      "cell_type": "code",
      "metadata": {
        "colab": {
          "base_uri": "https://localhost:8080/"
        },
        "id": "02XX6AVk6mNz",
        "outputId": "f48e1a6a-4506-4fd1-8aea-9fc994282c84"
      },
      "source": [
        "from google.colab import drive\n",
        "drive.mount('/content/drive')"
      ],
      "execution_count": 20,
      "outputs": [
        {
          "output_type": "stream",
          "text": [
            "Drive already mounted at /content/drive; to attempt to forcibly remount, call drive.mount(\"/content/drive\", force_remount=True).\n"
          ],
          "name": "stdout"
        }
      ]
    },
    {
      "cell_type": "code",
      "metadata": {
        "colab": {
          "base_uri": "https://localhost:8080/"
        },
        "id": "1vo1idEh6sGv",
        "outputId": "143e6b41-a5f6-456f-8a4a-c4632e06e3db"
      },
      "source": [
        "cd '/content/drive/MyDrive/LiveCodeSession/02_EDA/student'"
      ],
      "execution_count": 21,
      "outputs": [
        {
          "output_type": "stream",
          "text": [
            "/content/drive/MyDrive/LiveCodeSession/02_EDA/student\n"
          ],
          "name": "stdout"
        }
      ]
    },
    {
      "cell_type": "code",
      "metadata": {
        "colab": {
          "base_uri": "https://localhost:8080/"
        },
        "id": "zuJLj_ya6tXO",
        "outputId": "4bccc79d-3336-486e-a426-2fb1c1e5e662"
      },
      "source": [
        "ls"
      ],
      "execution_count": 22,
      "outputs": [
        {
          "output_type": "stream",
          "text": [
            "cleanedMathData.csv  student-merge.R  student.txt\n",
            "student-mat.csv      student-por.csv  univariate_MathData_2.csv\n"
          ],
          "name": "stdout"
        }
      ]
    },
    {
      "cell_type": "code",
      "metadata": {
        "id": "nNU1EDx5cDGY"
      },
      "source": [
        "import os"
      ],
      "execution_count": 23,
      "outputs": []
    },
    {
      "cell_type": "markdown",
      "metadata": {
        "id": "lneQzvRz6z4y"
      },
      "source": [
        "Importing the necessary libraries for data processing"
      ]
    },
    {
      "cell_type": "code",
      "metadata": {
        "id": "zdWt2U9C61FC"
      },
      "source": [
        "import pandas as pd #working with csv or excel files\n",
        "import numpy as np #working with numbers/ arrays/ tensors\n",
        "import tensorflow as tf #framework\n",
        "from tensorflow import keras #API / library \n",
        "import os #using os commands between the python language"
      ],
      "execution_count": 24,
      "outputs": []
    },
    {
      "cell_type": "markdown",
      "metadata": {
        "id": "kDI6KAHe62Cm"
      },
      "source": [
        "To load the data, we have a "
      ]
    },
    {
      "cell_type": "code",
      "metadata": {
        "id": "Ta6IAivK685M"
      },
      "source": [
        "mathData = pd.read_csv('student-mat.csv', sep=';') #load the csv file as dataframe"
      ],
      "execution_count": 25,
      "outputs": []
    },
    {
      "cell_type": "code",
      "metadata": {
        "colab": {
          "base_uri": "https://localhost:8080/",
          "height": 379
        },
        "id": "K5wym9Ji69gS",
        "outputId": "59362b4e-71ca-4b56-8b19-a845dde99a0a"
      },
      "source": [
        "mathData.head(10) #print the first ten rows of the dataframe"
      ],
      "execution_count": 26,
      "outputs": [
        {
          "output_type": "execute_result",
          "data": {
            "text/html": [
              "<div>\n",
              "<style scoped>\n",
              "    .dataframe tbody tr th:only-of-type {\n",
              "        vertical-align: middle;\n",
              "    }\n",
              "\n",
              "    .dataframe tbody tr th {\n",
              "        vertical-align: top;\n",
              "    }\n",
              "\n",
              "    .dataframe thead th {\n",
              "        text-align: right;\n",
              "    }\n",
              "</style>\n",
              "<table border=\"1\" class=\"dataframe\">\n",
              "  <thead>\n",
              "    <tr style=\"text-align: right;\">\n",
              "      <th></th>\n",
              "      <th>school</th>\n",
              "      <th>sex</th>\n",
              "      <th>age</th>\n",
              "      <th>address</th>\n",
              "      <th>famsize</th>\n",
              "      <th>Pstatus</th>\n",
              "      <th>Medu</th>\n",
              "      <th>Fedu</th>\n",
              "      <th>Mjob</th>\n",
              "      <th>Fjob</th>\n",
              "      <th>reason</th>\n",
              "      <th>guardian</th>\n",
              "      <th>traveltime</th>\n",
              "      <th>studytime</th>\n",
              "      <th>failures</th>\n",
              "      <th>schoolsup</th>\n",
              "      <th>famsup</th>\n",
              "      <th>paid</th>\n",
              "      <th>activities</th>\n",
              "      <th>nursery</th>\n",
              "      <th>higher</th>\n",
              "      <th>internet</th>\n",
              "      <th>romantic</th>\n",
              "      <th>famrel</th>\n",
              "      <th>freetime</th>\n",
              "      <th>goout</th>\n",
              "      <th>Dalc</th>\n",
              "      <th>Walc</th>\n",
              "      <th>health</th>\n",
              "      <th>absences</th>\n",
              "      <th>G1</th>\n",
              "      <th>G2</th>\n",
              "      <th>G3</th>\n",
              "    </tr>\n",
              "  </thead>\n",
              "  <tbody>\n",
              "    <tr>\n",
              "      <th>0</th>\n",
              "      <td>GP</td>\n",
              "      <td>F</td>\n",
              "      <td>18</td>\n",
              "      <td>U</td>\n",
              "      <td>GT3</td>\n",
              "      <td>A</td>\n",
              "      <td>4</td>\n",
              "      <td>4</td>\n",
              "      <td>at_home</td>\n",
              "      <td>teacher</td>\n",
              "      <td>course</td>\n",
              "      <td>mother</td>\n",
              "      <td>2</td>\n",
              "      <td>2</td>\n",
              "      <td>0</td>\n",
              "      <td>yes</td>\n",
              "      <td>no</td>\n",
              "      <td>no</td>\n",
              "      <td>no</td>\n",
              "      <td>yes</td>\n",
              "      <td>yes</td>\n",
              "      <td>no</td>\n",
              "      <td>no</td>\n",
              "      <td>4</td>\n",
              "      <td>3</td>\n",
              "      <td>4</td>\n",
              "      <td>1</td>\n",
              "      <td>1</td>\n",
              "      <td>3</td>\n",
              "      <td>6</td>\n",
              "      <td>5</td>\n",
              "      <td>6</td>\n",
              "      <td>6</td>\n",
              "    </tr>\n",
              "    <tr>\n",
              "      <th>1</th>\n",
              "      <td>GP</td>\n",
              "      <td>F</td>\n",
              "      <td>17</td>\n",
              "      <td>U</td>\n",
              "      <td>GT3</td>\n",
              "      <td>T</td>\n",
              "      <td>1</td>\n",
              "      <td>1</td>\n",
              "      <td>at_home</td>\n",
              "      <td>other</td>\n",
              "      <td>course</td>\n",
              "      <td>father</td>\n",
              "      <td>1</td>\n",
              "      <td>2</td>\n",
              "      <td>0</td>\n",
              "      <td>no</td>\n",
              "      <td>yes</td>\n",
              "      <td>no</td>\n",
              "      <td>no</td>\n",
              "      <td>no</td>\n",
              "      <td>yes</td>\n",
              "      <td>yes</td>\n",
              "      <td>no</td>\n",
              "      <td>5</td>\n",
              "      <td>3</td>\n",
              "      <td>3</td>\n",
              "      <td>1</td>\n",
              "      <td>1</td>\n",
              "      <td>3</td>\n",
              "      <td>4</td>\n",
              "      <td>5</td>\n",
              "      <td>5</td>\n",
              "      <td>6</td>\n",
              "    </tr>\n",
              "    <tr>\n",
              "      <th>2</th>\n",
              "      <td>GP</td>\n",
              "      <td>F</td>\n",
              "      <td>15</td>\n",
              "      <td>U</td>\n",
              "      <td>LE3</td>\n",
              "      <td>T</td>\n",
              "      <td>1</td>\n",
              "      <td>1</td>\n",
              "      <td>at_home</td>\n",
              "      <td>other</td>\n",
              "      <td>other</td>\n",
              "      <td>mother</td>\n",
              "      <td>1</td>\n",
              "      <td>2</td>\n",
              "      <td>3</td>\n",
              "      <td>yes</td>\n",
              "      <td>no</td>\n",
              "      <td>yes</td>\n",
              "      <td>no</td>\n",
              "      <td>yes</td>\n",
              "      <td>yes</td>\n",
              "      <td>yes</td>\n",
              "      <td>no</td>\n",
              "      <td>4</td>\n",
              "      <td>3</td>\n",
              "      <td>2</td>\n",
              "      <td>2</td>\n",
              "      <td>3</td>\n",
              "      <td>3</td>\n",
              "      <td>10</td>\n",
              "      <td>7</td>\n",
              "      <td>8</td>\n",
              "      <td>10</td>\n",
              "    </tr>\n",
              "    <tr>\n",
              "      <th>3</th>\n",
              "      <td>GP</td>\n",
              "      <td>F</td>\n",
              "      <td>15</td>\n",
              "      <td>U</td>\n",
              "      <td>GT3</td>\n",
              "      <td>T</td>\n",
              "      <td>4</td>\n",
              "      <td>2</td>\n",
              "      <td>health</td>\n",
              "      <td>services</td>\n",
              "      <td>home</td>\n",
              "      <td>mother</td>\n",
              "      <td>1</td>\n",
              "      <td>3</td>\n",
              "      <td>0</td>\n",
              "      <td>no</td>\n",
              "      <td>yes</td>\n",
              "      <td>yes</td>\n",
              "      <td>yes</td>\n",
              "      <td>yes</td>\n",
              "      <td>yes</td>\n",
              "      <td>yes</td>\n",
              "      <td>yes</td>\n",
              "      <td>3</td>\n",
              "      <td>2</td>\n",
              "      <td>2</td>\n",
              "      <td>1</td>\n",
              "      <td>1</td>\n",
              "      <td>5</td>\n",
              "      <td>2</td>\n",
              "      <td>15</td>\n",
              "      <td>14</td>\n",
              "      <td>15</td>\n",
              "    </tr>\n",
              "    <tr>\n",
              "      <th>4</th>\n",
              "      <td>GP</td>\n",
              "      <td>F</td>\n",
              "      <td>16</td>\n",
              "      <td>U</td>\n",
              "      <td>GT3</td>\n",
              "      <td>T</td>\n",
              "      <td>3</td>\n",
              "      <td>3</td>\n",
              "      <td>other</td>\n",
              "      <td>other</td>\n",
              "      <td>home</td>\n",
              "      <td>father</td>\n",
              "      <td>1</td>\n",
              "      <td>2</td>\n",
              "      <td>0</td>\n",
              "      <td>no</td>\n",
              "      <td>yes</td>\n",
              "      <td>yes</td>\n",
              "      <td>no</td>\n",
              "      <td>yes</td>\n",
              "      <td>yes</td>\n",
              "      <td>no</td>\n",
              "      <td>no</td>\n",
              "      <td>4</td>\n",
              "      <td>3</td>\n",
              "      <td>2</td>\n",
              "      <td>1</td>\n",
              "      <td>2</td>\n",
              "      <td>5</td>\n",
              "      <td>4</td>\n",
              "      <td>6</td>\n",
              "      <td>10</td>\n",
              "      <td>10</td>\n",
              "    </tr>\n",
              "    <tr>\n",
              "      <th>5</th>\n",
              "      <td>GP</td>\n",
              "      <td>M</td>\n",
              "      <td>16</td>\n",
              "      <td>U</td>\n",
              "      <td>LE3</td>\n",
              "      <td>T</td>\n",
              "      <td>4</td>\n",
              "      <td>3</td>\n",
              "      <td>services</td>\n",
              "      <td>other</td>\n",
              "      <td>reputation</td>\n",
              "      <td>mother</td>\n",
              "      <td>1</td>\n",
              "      <td>2</td>\n",
              "      <td>0</td>\n",
              "      <td>no</td>\n",
              "      <td>yes</td>\n",
              "      <td>yes</td>\n",
              "      <td>yes</td>\n",
              "      <td>yes</td>\n",
              "      <td>yes</td>\n",
              "      <td>yes</td>\n",
              "      <td>no</td>\n",
              "      <td>5</td>\n",
              "      <td>4</td>\n",
              "      <td>2</td>\n",
              "      <td>1</td>\n",
              "      <td>2</td>\n",
              "      <td>5</td>\n",
              "      <td>10</td>\n",
              "      <td>15</td>\n",
              "      <td>15</td>\n",
              "      <td>15</td>\n",
              "    </tr>\n",
              "    <tr>\n",
              "      <th>6</th>\n",
              "      <td>GP</td>\n",
              "      <td>M</td>\n",
              "      <td>16</td>\n",
              "      <td>U</td>\n",
              "      <td>LE3</td>\n",
              "      <td>T</td>\n",
              "      <td>2</td>\n",
              "      <td>2</td>\n",
              "      <td>other</td>\n",
              "      <td>other</td>\n",
              "      <td>home</td>\n",
              "      <td>mother</td>\n",
              "      <td>1</td>\n",
              "      <td>2</td>\n",
              "      <td>0</td>\n",
              "      <td>no</td>\n",
              "      <td>no</td>\n",
              "      <td>no</td>\n",
              "      <td>no</td>\n",
              "      <td>yes</td>\n",
              "      <td>yes</td>\n",
              "      <td>yes</td>\n",
              "      <td>no</td>\n",
              "      <td>4</td>\n",
              "      <td>4</td>\n",
              "      <td>4</td>\n",
              "      <td>1</td>\n",
              "      <td>1</td>\n",
              "      <td>3</td>\n",
              "      <td>0</td>\n",
              "      <td>12</td>\n",
              "      <td>12</td>\n",
              "      <td>11</td>\n",
              "    </tr>\n",
              "    <tr>\n",
              "      <th>7</th>\n",
              "      <td>GP</td>\n",
              "      <td>F</td>\n",
              "      <td>17</td>\n",
              "      <td>U</td>\n",
              "      <td>GT3</td>\n",
              "      <td>A</td>\n",
              "      <td>4</td>\n",
              "      <td>4</td>\n",
              "      <td>other</td>\n",
              "      <td>teacher</td>\n",
              "      <td>home</td>\n",
              "      <td>mother</td>\n",
              "      <td>2</td>\n",
              "      <td>2</td>\n",
              "      <td>0</td>\n",
              "      <td>yes</td>\n",
              "      <td>yes</td>\n",
              "      <td>no</td>\n",
              "      <td>no</td>\n",
              "      <td>yes</td>\n",
              "      <td>yes</td>\n",
              "      <td>no</td>\n",
              "      <td>no</td>\n",
              "      <td>4</td>\n",
              "      <td>1</td>\n",
              "      <td>4</td>\n",
              "      <td>1</td>\n",
              "      <td>1</td>\n",
              "      <td>1</td>\n",
              "      <td>6</td>\n",
              "      <td>6</td>\n",
              "      <td>5</td>\n",
              "      <td>6</td>\n",
              "    </tr>\n",
              "    <tr>\n",
              "      <th>8</th>\n",
              "      <td>GP</td>\n",
              "      <td>M</td>\n",
              "      <td>15</td>\n",
              "      <td>U</td>\n",
              "      <td>LE3</td>\n",
              "      <td>A</td>\n",
              "      <td>3</td>\n",
              "      <td>2</td>\n",
              "      <td>services</td>\n",
              "      <td>other</td>\n",
              "      <td>home</td>\n",
              "      <td>mother</td>\n",
              "      <td>1</td>\n",
              "      <td>2</td>\n",
              "      <td>0</td>\n",
              "      <td>no</td>\n",
              "      <td>yes</td>\n",
              "      <td>yes</td>\n",
              "      <td>no</td>\n",
              "      <td>yes</td>\n",
              "      <td>yes</td>\n",
              "      <td>yes</td>\n",
              "      <td>no</td>\n",
              "      <td>4</td>\n",
              "      <td>2</td>\n",
              "      <td>2</td>\n",
              "      <td>1</td>\n",
              "      <td>1</td>\n",
              "      <td>1</td>\n",
              "      <td>0</td>\n",
              "      <td>16</td>\n",
              "      <td>18</td>\n",
              "      <td>19</td>\n",
              "    </tr>\n",
              "    <tr>\n",
              "      <th>9</th>\n",
              "      <td>GP</td>\n",
              "      <td>M</td>\n",
              "      <td>15</td>\n",
              "      <td>U</td>\n",
              "      <td>GT3</td>\n",
              "      <td>T</td>\n",
              "      <td>3</td>\n",
              "      <td>4</td>\n",
              "      <td>other</td>\n",
              "      <td>other</td>\n",
              "      <td>home</td>\n",
              "      <td>mother</td>\n",
              "      <td>1</td>\n",
              "      <td>2</td>\n",
              "      <td>0</td>\n",
              "      <td>no</td>\n",
              "      <td>yes</td>\n",
              "      <td>yes</td>\n",
              "      <td>yes</td>\n",
              "      <td>yes</td>\n",
              "      <td>yes</td>\n",
              "      <td>yes</td>\n",
              "      <td>no</td>\n",
              "      <td>5</td>\n",
              "      <td>5</td>\n",
              "      <td>1</td>\n",
              "      <td>1</td>\n",
              "      <td>1</td>\n",
              "      <td>5</td>\n",
              "      <td>0</td>\n",
              "      <td>14</td>\n",
              "      <td>15</td>\n",
              "      <td>15</td>\n",
              "    </tr>\n",
              "  </tbody>\n",
              "</table>\n",
              "</div>"
            ],
            "text/plain": [
              "  school sex  age address famsize Pstatus  ...  Walc  health absences  G1  G2  G3\n",
              "0     GP   F   18       U     GT3       A  ...     1       3        6   5   6   6\n",
              "1     GP   F   17       U     GT3       T  ...     1       3        4   5   5   6\n",
              "2     GP   F   15       U     LE3       T  ...     3       3       10   7   8  10\n",
              "3     GP   F   15       U     GT3       T  ...     1       5        2  15  14  15\n",
              "4     GP   F   16       U     GT3       T  ...     2       5        4   6  10  10\n",
              "5     GP   M   16       U     LE3       T  ...     2       5       10  15  15  15\n",
              "6     GP   M   16       U     LE3       T  ...     1       3        0  12  12  11\n",
              "7     GP   F   17       U     GT3       A  ...     1       1        6   6   5   6\n",
              "8     GP   M   15       U     LE3       A  ...     1       1        0  16  18  19\n",
              "9     GP   M   15       U     GT3       T  ...     1       5        0  14  15  15\n",
              "\n",
              "[10 rows x 33 columns]"
            ]
          },
          "metadata": {
            "tags": []
          },
          "execution_count": 26
        }
      ]
    },
    {
      "cell_type": "markdown",
      "metadata": {
        "id": "22onHX-Y7Vu-"
      },
      "source": [
        "We are just going to consider the columns `G1` and `G3` for univariate linear regression\n",
        "\n",
        "$G3_i = G1_i  \\cdot \\theta_1 + \\theta_0$"
      ]
    },
    {
      "cell_type": "code",
      "metadata": {
        "colab": {
          "base_uri": "https://localhost:8080/",
          "height": 204
        },
        "id": "dgIWSKJx7XZZ",
        "outputId": "b4caf565-7e2b-4470-c3a3-6f534c322bd0"
      },
      "source": [
        "uniMathData = mathData[['G1', 'G3']]\n",
        "uniMathData.head(5)"
      ],
      "execution_count": 27,
      "outputs": [
        {
          "output_type": "execute_result",
          "data": {
            "text/html": [
              "<div>\n",
              "<style scoped>\n",
              "    .dataframe tbody tr th:only-of-type {\n",
              "        vertical-align: middle;\n",
              "    }\n",
              "\n",
              "    .dataframe tbody tr th {\n",
              "        vertical-align: top;\n",
              "    }\n",
              "\n",
              "    .dataframe thead th {\n",
              "        text-align: right;\n",
              "    }\n",
              "</style>\n",
              "<table border=\"1\" class=\"dataframe\">\n",
              "  <thead>\n",
              "    <tr style=\"text-align: right;\">\n",
              "      <th></th>\n",
              "      <th>G1</th>\n",
              "      <th>G3</th>\n",
              "    </tr>\n",
              "  </thead>\n",
              "  <tbody>\n",
              "    <tr>\n",
              "      <th>0</th>\n",
              "      <td>5</td>\n",
              "      <td>6</td>\n",
              "    </tr>\n",
              "    <tr>\n",
              "      <th>1</th>\n",
              "      <td>5</td>\n",
              "      <td>6</td>\n",
              "    </tr>\n",
              "    <tr>\n",
              "      <th>2</th>\n",
              "      <td>7</td>\n",
              "      <td>10</td>\n",
              "    </tr>\n",
              "    <tr>\n",
              "      <th>3</th>\n",
              "      <td>15</td>\n",
              "      <td>15</td>\n",
              "    </tr>\n",
              "    <tr>\n",
              "      <th>4</th>\n",
              "      <td>6</td>\n",
              "      <td>10</td>\n",
              "    </tr>\n",
              "  </tbody>\n",
              "</table>\n",
              "</div>"
            ],
            "text/plain": [
              "   G1  G3\n",
              "0   5   6\n",
              "1   5   6\n",
              "2   7  10\n",
              "3  15  15\n",
              "4   6  10"
            ]
          },
          "metadata": {
            "tags": []
          },
          "execution_count": 27
        }
      ]
    },
    {
      "cell_type": "code",
      "metadata": {
        "id": "54Fbl7xy7wUu"
      },
      "source": [
        "uniMathData.to_csv('univariate_MathData_2.csv')"
      ],
      "execution_count": 28,
      "outputs": []
    },
    {
      "cell_type": "code",
      "metadata": {
        "colab": {
          "base_uri": "https://localhost:8080/"
        },
        "id": "HOf1uIK88YUX",
        "outputId": "7f82adf7-ad56-4b2d-c94a-67de66477100"
      },
      "source": [
        "ls"
      ],
      "execution_count": 29,
      "outputs": [
        {
          "output_type": "stream",
          "text": [
            "cleanedMathData.csv  student-merge.R  student.txt\n",
            "student-mat.csv      student-por.csv  univariate_MathData_2.csv\n"
          ],
          "name": "stdout"
        }
      ]
    },
    {
      "cell_type": "markdown",
      "metadata": {
        "id": "r5zMVeJc8hBs"
      },
      "source": [
        "## Data visualization"
      ]
    },
    {
      "cell_type": "code",
      "metadata": {
        "colab": {
          "base_uri": "https://localhost:8080/",
          "height": 153
        },
        "id": "S3lCiRxv8huv",
        "outputId": "a5fef6bb-a78f-4167-ec28-03963bc3c8ab"
      },
      "source": [
        "import seaborn as sns\n",
        "sns.palplot(sns.color_palette('PuOr')) #Purple to Orange colors\n",
        "pal = sns.color_palette('PuOr', 6) #print 6 color shades from Purple to Orange\n",
        "pal.as_hex() #set hex code values for colors\n",
        "\n",
        "import matplotlib.pyplot as plt\n",
        "plt.style.use(['seaborn'])\n",
        "sns_colors = ['#c6690c', '#664697'] #orange Purple hex codes\n",
        "sns.set_palette(sns_colors) #set the palette as sns_colors \n",
        "sns.palplot(sns.color_palette(sns_colors)) #plot the color codes"
      ],
      "execution_count": 30,
      "outputs": [
        {
          "output_type": "display_data",
          "data": {
            "image/png": "[encoded data removed]",
            "text/plain": [
              "<Figure size 432x72 with 1 Axes>"
            ]
          },
          "metadata": {
            "tags": []
          }
        },
        {
          "output_type": "display_data",
          "data": {
            "image/png": "[encoded data removed]",
            "text/plain": [
              "<Figure size 144x72 with 1 Axes>"
            ]
          },
          "metadata": {
            "tags": []
          }
        }
      ]
    },
    {
      "cell_type": "code",
      "metadata": {
        "colab": {
          "base_uri": "https://localhost:8080/"
        },
        "id": "A-henWKa8jb1",
        "outputId": "ae562998-e256-447c-accd-626d4f2f5228"
      },
      "source": [
        "uniMathData.columns #columns in the dataframe"
      ],
      "execution_count": 31,
      "outputs": [
        {
          "output_type": "execute_result",
          "data": {
            "text/plain": [
              "Index(['G1', 'G3'], dtype='object')"
            ]
          },
          "metadata": {
            "tags": []
          },
          "execution_count": 31
        }
      ]
    },
    {
      "cell_type": "code",
      "metadata": {
        "colab": {
          "base_uri": "https://localhost:8080/",
          "height": 391
        },
        "id": "OmvUYANo8l1d",
        "outputId": "e3e68333-c0d2-4c8b-ee26-b67b05a8c54c"
      },
      "source": [
        "#pairplot for all the values\n",
        "\n",
        "sns.pairplot(uniMathData,\n",
        "             x_vars = ['G1', 'G3'],\n",
        "             y_vars =  ['G1', 'G3'],\n",
        "       diag_kind='kde'\n",
        "             )"
      ],
      "execution_count": 32,
      "outputs": [
        {
          "output_type": "execute_result",
          "data": {
            "text/plain": [
              "<seaborn.axisgrid.PairGrid at 0x7f8283eb63d0>"
            ]
          },
          "metadata": {
            "tags": []
          },
          "execution_count": 32
        },
        {
          "output_type": "display_data",
          "data": {
            "image/png": "[encoded data removed]",
            "text/plain": [
              "<Figure size 360x360 with 6 Axes>"
            ]
          },
          "metadata": {
            "tags": []
          }
        }
      ]
    },
    {
      "cell_type": "markdown",
      "metadata": {
        "id": "Vh48mp2R8qZT"
      },
      "source": [
        "## Data Splits"
      ]
    },
    {
      "cell_type": "code",
      "metadata": {
        "colab": {
          "base_uri": "https://localhost:8080/"
        },
        "id": "HdLqncBL8ndK",
        "outputId": "c4ff7081-cf1b-4d97-9662-b894dfdbd1d1"
      },
      "source": [
        "#80-20 train-test percent split\n",
        "\n",
        "trainDataset = uniMathData.sample(frac=0.8, random_state=0) \n",
        "testDataset = uniMathData.drop(trainDataset.index)\n",
        "\n",
        "print(trainDataset.head())\n",
        "print(testDataset.head())"
      ],
      "execution_count": 33,
      "outputs": [
        {
          "output_type": "stream",
          "text": [
            "     G1  G3\n",
            "329  14  14\n",
            "318  11  10\n",
            "317   9   9\n",
            "65   16  15\n",
            "59   15  16\n",
            "    G1  G3\n",
            "9   14  15\n",
            "25   6   8\n",
            "28  11  11\n",
            "31  17  17\n",
            "32  17  16\n"
          ],
          "name": "stdout"
        }
      ]
    },
    {
      "cell_type": "code",
      "metadata": {
        "colab": {
          "base_uri": "https://localhost:8080/"
        },
        "id": "P0Cjprp28y9q",
        "outputId": "b7add0fe-980d-450b-eb72-5e6c716bba35"
      },
      "source": [
        "print(trainDataset.shape)\n",
        "print(testDataset.shape)"
      ],
      "execution_count": 34,
      "outputs": [
        {
          "output_type": "stream",
          "text": [
            "(316, 2)\n",
            "(79, 2)\n"
          ],
          "name": "stdout"
        }
      ]
    },
    {
      "cell_type": "code",
      "metadata": {
        "colab": {
          "base_uri": "https://localhost:8080/"
        },
        "id": "_max9st-80sw",
        "outputId": "b1d258d1-70ad-46e8-d161-674d5cc84327"
      },
      "source": [
        "#copy the trainDataset dataframe for getting the features\n",
        "\n",
        "trainFeatures = trainDataset.copy()\n",
        "testFeatures = testDataset.copy()\n",
        "\n",
        "print(trainFeatures.head())\n",
        "print(testFeatures.head())"
      ],
      "execution_count": 35,
      "outputs": [
        {
          "output_type": "stream",
          "text": [
            "     G1  G3\n",
            "329  14  14\n",
            "318  11  10\n",
            "317   9   9\n",
            "65   16  15\n",
            "59   15  16\n",
            "    G1  G3\n",
            "9   14  15\n",
            "25   6   8\n",
            "28  11  11\n",
            "31  17  17\n",
            "32  17  16\n"
          ],
          "name": "stdout"
        }
      ]
    },
    {
      "cell_type": "code",
      "metadata": {
        "colab": {
          "base_uri": "https://localhost:8080/"
        },
        "id": "HLhBA1xS84hX",
        "outputId": "6af799e0-666a-4e41-cf8e-d300ccc18fb1"
      },
      "source": [
        "#removing the G3 column and saving it into the labels variable\n",
        "\n",
        "trainLabels = trainFeatures.pop('G3')\n",
        "testLabels = testFeatures.pop('G3')\n",
        "\n",
        "print(trainLabels.head())\n",
        "print(testLabels.head())"
      ],
      "execution_count": 36,
      "outputs": [
        {
          "output_type": "stream",
          "text": [
            "329    14\n",
            "318    10\n",
            "317     9\n",
            "65     15\n",
            "59     16\n",
            "Name: G3, dtype: int64\n",
            "9     15\n",
            "25     8\n",
            "28    11\n",
            "31    17\n",
            "32    16\n",
            "Name: G3, dtype: int64\n"
          ],
          "name": "stdout"
        }
      ]
    },
    {
      "cell_type": "code",
      "metadata": {
        "colab": {
          "base_uri": "https://localhost:8080/"
        },
        "id": "BbQYLgGg845j",
        "outputId": "30b5f6b2-f48f-40ac-9729-ce2424f80958"
      },
      "source": [
        "print(trainFeatures.head())\n",
        "print(testFeatures.head())"
      ],
      "execution_count": 37,
      "outputs": [
        {
          "output_type": "stream",
          "text": [
            "     G1\n",
            "329  14\n",
            "318  11\n",
            "317   9\n",
            "65   16\n",
            "59   15\n",
            "    G1\n",
            "9   14\n",
            "25   6\n",
            "28  11\n",
            "31  17\n",
            "32  17\n"
          ],
          "name": "stdout"
        }
      ]
    },
    {
      "cell_type": "code",
      "metadata": {
        "id": "9Blphu-p87Ib"
      },
      "source": [
        "# univariate -> num(features) = 1\n",
        "# multvariate -> num(features) > 1 = 11\n",
        "\n",
        "\n",
        "model = tf.keras.Sequential([tf.keras.layers.Dense(1)])"
      ],
      "execution_count": 38,
      "outputs": []
    },
    {
      "cell_type": "code",
      "metadata": {
        "id": "AD2_wyrC89JV"
      },
      "source": [
        "model.compile(\n",
        "    loss = 'mean_absolute_error', #minimizing the MAE loss\n",
        "    optimizer = tf.keras.optimizers.Adam(0.001), #learning rate specified as 0.001\n",
        "    # optimizer = 'adam', #takes the default learning rate\n",
        "    metrics = ['mae', 'mse'] #meanSquare and meanAbsolute error metrics\n",
        ")"
      ],
      "execution_count": 39,
      "outputs": []
    },
    {
      "cell_type": "code",
      "metadata": {
        "id": "yr-oZVVP8_oD",
        "colab": {
          "base_uri": "https://localhost:8080/"
        },
        "outputId": "10572250-5bc9-44db-9ad9-1555e392720e"
      },
      "source": [
        "numEpochs = 300\n",
        "history = model.fit(x = trainFeatures, y = trainLabels, validation_data = (testFeatures, testLabels), epochs = numEpochs)"
      ],
      "execution_count": 40,
      "outputs": [
        {
          "output_type": "stream",
          "text": [
            "Epoch 1/300\n",
            "10/10 [==============================] - 1s 32ms/step - loss: 19.5364 - mae: 19.5364 - mse: 430.6103 - val_loss: 20.6238 - val_mae: 20.6238 - val_mse: 477.7191\n",
            "Epoch 2/300\n",
            "10/10 [==============================] - 0s 3ms/step - loss: 19.4186 - mae: 19.4186 - mse: 425.5860 - val_loss: 20.4994 - val_mae: 20.4994 - val_mse: 472.1400\n",
            "Epoch 3/300\n",
            "10/10 [==============================] - 0s 3ms/step - loss: 19.3014 - mae: 19.3014 - mse: 420.6334 - val_loss: 20.3747 - val_mae: 20.3747 - val_mse: 466.5780\n",
            "Epoch 4/300\n",
            "10/10 [==============================] - 0s 3ms/step - loss: 19.1837 - mae: 19.1837 - mse: 415.7109 - val_loss: 20.2504 - val_mae: 20.2504 - val_mse: 461.0634\n",
            "Epoch 5/300\n",
            "10/10 [==============================] - 0s 3ms/step - loss: 19.0657 - mae: 19.0657 - mse: 410.7161 - val_loss: 20.1261 - val_mae: 20.1261 - val_mse: 455.5863\n",
            "Epoch 6/300\n",
            "10/10 [==============================] - 0s 3ms/step - loss: 18.9490 - mae: 18.9490 - mse: 405.9349 - val_loss: 20.0011 - val_mae: 20.0011 - val_mse: 450.1141\n",
            "Epoch 7/300\n",
            "10/10 [==============================] - 0s 3ms/step - loss: 18.8309 - mae: 18.8309 - mse: 401.0386 - val_loss: 19.8767 - val_mae: 19.8767 - val_mse: 444.6993\n",
            "Epoch 8/300\n",
            "10/10 [==============================] - 0s 3ms/step - loss: 18.7138 - mae: 18.7138 - mse: 396.2573 - val_loss: 19.7519 - val_mae: 19.7519 - val_mse: 439.2971\n",
            "Epoch 9/300\n",
            "10/10 [==============================] - 0s 3ms/step - loss: 18.5958 - mae: 18.5958 - mse: 391.4309 - val_loss: 19.6276 - val_mae: 19.6276 - val_mse: 433.9517\n",
            "Epoch 10/300\n",
            "10/10 [==============================] - 0s 3ms/step - loss: 18.4780 - mae: 18.4780 - mse: 386.6579 - val_loss: 19.5034 - val_mae: 19.5034 - val_mse: 428.6454\n",
            "Epoch 11/300\n",
            "10/10 [==============================] - 0s 4ms/step - loss: 18.3610 - mae: 18.3610 - mse: 381.9621 - val_loss: 19.3786 - val_mae: 19.3786 - val_mse: 423.3465\n",
            "Epoch 12/300\n",
            "10/10 [==============================] - 0s 3ms/step - loss: 18.2433 - mae: 18.2433 - mse: 377.2603 - val_loss: 19.2540 - val_mae: 19.2540 - val_mse: 418.0889\n",
            "Epoch 13/300\n",
            "10/10 [==============================] - 0s 3ms/step - loss: 18.1256 - mae: 18.1256 - mse: 372.5890 - val_loss: 19.1296 - val_mae: 19.1296 - val_mse: 412.8737\n",
            "Epoch 14/300\n",
            "10/10 [==============================] - 0s 3ms/step - loss: 18.0080 - mae: 18.0080 - mse: 367.9277 - val_loss: 19.0052 - val_mae: 19.0052 - val_mse: 407.6933\n",
            "Epoch 15/300\n",
            "10/10 [==============================] - 0s 3ms/step - loss: 17.8904 - mae: 17.8904 - mse: 363.3441 - val_loss: 18.8809 - val_mae: 18.8809 - val_mse: 402.5458\n",
            "Epoch 16/300\n",
            "10/10 [==============================] - 0s 3ms/step - loss: 17.7737 - mae: 17.7737 - mse: 358.8249 - val_loss: 18.7556 - val_mae: 18.7556 - val_mse: 397.3948\n",
            "Epoch 17/300\n",
            "10/10 [==============================] - 0s 3ms/step - loss: 17.6555 - mae: 17.6555 - mse: 354.2209 - val_loss: 18.6312 - val_mae: 18.6312 - val_mse: 392.3101\n",
            "Epoch 18/300\n",
            "10/10 [==============================] - 0s 3ms/step - loss: 17.5381 - mae: 17.5381 - mse: 349.7128 - val_loss: 18.5066 - val_mae: 18.5066 - val_mse: 387.2570\n",
            "Epoch 19/300\n",
            "10/10 [==============================] - 0s 3ms/step - loss: 17.4196 - mae: 17.4196 - mse: 345.1219 - val_loss: 18.3830 - val_mae: 18.3830 - val_mse: 382.2704\n",
            "Epoch 20/300\n",
            "10/10 [==============================] - 0s 3ms/step - loss: 17.3032 - mae: 17.3032 - mse: 340.7494 - val_loss: 18.2580 - val_mae: 18.2580 - val_mse: 377.2652\n",
            "Epoch 21/300\n",
            "10/10 [==============================] - 0s 3ms/step - loss: 17.1852 - mae: 17.1852 - mse: 336.3094 - val_loss: 18.1335 - val_mae: 18.1335 - val_mse: 372.3104\n",
            "Epoch 22/300\n",
            "10/10 [==============================] - 0s 3ms/step - loss: 17.0677 - mae: 17.0677 - mse: 331.9150 - val_loss: 18.0087 - val_mae: 18.0087 - val_mse: 367.3817\n",
            "Epoch 23/300\n",
            "10/10 [==============================] - 0s 3ms/step - loss: 16.9491 - mae: 16.9491 - mse: 327.4512 - val_loss: 17.8849 - val_mae: 17.8849 - val_mse: 362.5233\n",
            "Epoch 24/300\n",
            "10/10 [==============================] - 0s 3ms/step - loss: 16.8325 - mae: 16.8325 - mse: 323.1510 - val_loss: 17.7600 - val_mae: 17.7600 - val_mse: 357.6528\n",
            "Epoch 25/300\n",
            "10/10 [==============================] - 0s 3ms/step - loss: 16.7152 - mae: 16.7152 - mse: 318.8850 - val_loss: 17.6348 - val_mae: 17.6348 - val_mse: 352.8063\n",
            "Epoch 26/300\n",
            "10/10 [==============================] - 0s 3ms/step - loss: 16.5967 - mae: 16.5967 - mse: 314.5419 - val_loss: 17.5106 - val_mae: 17.5106 - val_mse: 348.0309\n",
            "Epoch 27/300\n",
            "10/10 [==============================] - 0s 3ms/step - loss: 16.4799 - mae: 16.4799 - mse: 310.3602 - val_loss: 17.3855 - val_mae: 17.3855 - val_mse: 343.2574\n",
            "Epoch 28/300\n",
            "10/10 [==============================] - 0s 3ms/step - loss: 16.3623 - mae: 16.3623 - mse: 306.1578 - val_loss: 17.2606 - val_mae: 17.2606 - val_mse: 338.5193\n",
            "Epoch 29/300\n",
            "10/10 [==============================] - 0s 3ms/step - loss: 16.2441 - mae: 16.2441 - mse: 301.9002 - val_loss: 17.1363 - val_mae: 17.1363 - val_mse: 333.8419\n",
            "Epoch 30/300\n",
            "10/10 [==============================] - 0s 4ms/step - loss: 16.1271 - mae: 16.1271 - mse: 297.7684 - val_loss: 17.0114 - val_mae: 17.0114 - val_mse: 329.1742\n",
            "Epoch 31/300\n",
            "10/10 [==============================] - 0s 3ms/step - loss: 16.0085 - mae: 16.0085 - mse: 293.5761 - val_loss: 16.8877 - val_mae: 16.8877 - val_mse: 324.5854\n",
            "Epoch 32/300\n",
            "10/10 [==============================] - 0s 3ms/step - loss: 15.8922 - mae: 15.8922 - mse: 289.5576 - val_loss: 16.7625 - val_mae: 16.7625 - val_mse: 319.9749\n",
            "Epoch 33/300\n",
            "10/10 [==============================] - 0s 3ms/step - loss: 15.7739 - mae: 15.7739 - mse: 285.4146 - val_loss: 16.6381 - val_mae: 16.6381 - val_mse: 315.4248\n",
            "Epoch 34/300\n",
            "10/10 [==============================] - 0s 3ms/step - loss: 15.6562 - mae: 15.6562 - mse: 281.3720 - val_loss: 16.5138 - val_mae: 16.5138 - val_mse: 310.9123\n",
            "Epoch 35/300\n",
            "10/10 [==============================] - 0s 3ms/step - loss: 15.5393 - mae: 15.5393 - mse: 277.4147 - val_loss: 16.3888 - val_mae: 16.3888 - val_mse: 306.4069\n",
            "Epoch 36/300\n",
            "10/10 [==============================] - 0s 3ms/step - loss: 15.4209 - mae: 15.4209 - mse: 273.3750 - val_loss: 16.2646 - val_mae: 16.2646 - val_mse: 301.9665\n",
            "Epoch 37/300\n",
            "10/10 [==============================] - 0s 3ms/step - loss: 15.3034 - mae: 15.3034 - mse: 269.3803 - val_loss: 16.1403 - val_mae: 16.1403 - val_mse: 297.5533\n",
            "Epoch 38/300\n",
            "10/10 [==============================] - 0s 3ms/step - loss: 15.1866 - mae: 15.1866 - mse: 265.5261 - val_loss: 16.0152 - val_mae: 16.0152 - val_mse: 293.1480\n",
            "Epoch 39/300\n",
            "10/10 [==============================] - 0s 3ms/step - loss: 15.0686 - mae: 15.0686 - mse: 261.6286 - val_loss: 15.8906 - val_mae: 15.8906 - val_mse: 288.7923\n",
            "Epoch 40/300\n",
            "10/10 [==============================] - 0s 3ms/step - loss: 14.9506 - mae: 14.9506 - mse: 257.7130 - val_loss: 15.7665 - val_mae: 15.7665 - val_mse: 284.4857\n",
            "Epoch 41/300\n",
            "10/10 [==============================] - 0s 3ms/step - loss: 14.8343 - mae: 14.8343 - mse: 254.0076 - val_loss: 15.6410 - val_mae: 15.6410 - val_mse: 280.1659\n",
            "Epoch 42/300\n",
            "10/10 [==============================] - 0s 3ms/step - loss: 14.7152 - mae: 14.7152 - mse: 250.0829 - val_loss: 15.5172 - val_mae: 15.5172 - val_mse: 275.9377\n",
            "Epoch 43/300\n",
            "10/10 [==============================] - 0s 3ms/step - loss: 14.5989 - mae: 14.5989 - mse: 246.3540 - val_loss: 15.3921 - val_mae: 15.3921 - val_mse: 271.6967\n",
            "Epoch 44/300\n",
            "10/10 [==============================] - 0s 3ms/step - loss: 14.4808 - mae: 14.4808 - mse: 242.6254 - val_loss: 15.2676 - val_mae: 15.2676 - val_mse: 267.5136\n",
            "Epoch 45/300\n",
            "10/10 [==============================] - 0s 3ms/step - loss: 14.3635 - mae: 14.3635 - mse: 238.9204 - val_loss: 15.1431 - val_mae: 15.1431 - val_mse: 263.3583\n",
            "Epoch 46/300\n",
            "10/10 [==============================] - 0s 3ms/step - loss: 14.2462 - mae: 14.2462 - mse: 235.2680 - val_loss: 15.0184 - val_mae: 15.0184 - val_mse: 259.2335\n",
            "Epoch 47/300\n",
            "10/10 [==============================] - 0s 3ms/step - loss: 14.1280 - mae: 14.1280 - mse: 231.5503 - val_loss: 14.8944 - val_mae: 14.8944 - val_mse: 255.1638\n",
            "Epoch 48/300\n",
            "10/10 [==============================] - 0s 3ms/step - loss: 14.0105 - mae: 14.0105 - mse: 227.9091 - val_loss: 14.7703 - val_mae: 14.7703 - val_mse: 251.1273\n",
            "Epoch 49/300\n",
            "10/10 [==============================] - 0s 3ms/step - loss: 13.8934 - mae: 13.8934 - mse: 224.3307 - val_loss: 14.6458 - val_mae: 14.6458 - val_mse: 247.1059\n",
            "Epoch 50/300\n",
            "10/10 [==============================] - 0s 3ms/step - loss: 13.7763 - mae: 13.7763 - mse: 220.7936 - val_loss: 14.5208 - val_mae: 14.5208 - val_mse: 243.1039\n",
            "Epoch 51/300\n",
            "10/10 [==============================] - 0s 2ms/step - loss: 13.6576 - mae: 13.6576 - mse: 217.1938 - val_loss: 14.3971 - val_mae: 14.3971 - val_mse: 239.1765\n",
            "Epoch 52/300\n",
            "10/10 [==============================] - 0s 3ms/step - loss: 13.5410 - mae: 13.5410 - mse: 213.7197 - val_loss: 14.2723 - val_mae: 14.2723 - val_mse: 235.2492\n",
            "Epoch 53/300\n",
            "10/10 [==============================] - 0s 3ms/step - loss: 13.4234 - mae: 13.4234 - mse: 210.2465 - val_loss: 14.1475 - val_mae: 14.1475 - val_mse: 231.3547\n",
            "Epoch 54/300\n",
            "10/10 [==============================] - 0s 3ms/step - loss: 13.3060 - mae: 13.3060 - mse: 206.8307 - val_loss: 14.0227 - val_mae: 14.0227 - val_mse: 227.4929\n",
            "Epoch 55/300\n",
            "10/10 [==============================] - 0s 3ms/step - loss: 13.1878 - mae: 13.1878 - mse: 203.3814 - val_loss: 13.8987 - val_mae: 13.8987 - val_mse: 223.6876\n",
            "Epoch 56/300\n",
            "10/10 [==============================] - 0s 3ms/step - loss: 13.0703 - mae: 13.0703 - mse: 199.9467 - val_loss: 13.7745 - val_mae: 13.7745 - val_mse: 219.9130\n",
            "Epoch 57/300\n",
            "10/10 [==============================] - 0s 3ms/step - loss: 12.9533 - mae: 12.9533 - mse: 196.6239 - val_loss: 13.6498 - val_mae: 13.6498 - val_mse: 216.1532\n",
            "Epoch 58/300\n",
            "10/10 [==============================] - 0s 4ms/step - loss: 12.8350 - mae: 12.8350 - mse: 193.2274 - val_loss: 13.5257 - val_mae: 13.5257 - val_mse: 212.4476\n",
            "Epoch 59/300\n",
            "10/10 [==============================] - 0s 4ms/step - loss: 12.7189 - mae: 12.7189 - mse: 190.0425 - val_loss: 13.4001 - val_mae: 13.4001 - val_mse: 208.7290\n",
            "Epoch 60/300\n",
            "10/10 [==============================] - 0s 4ms/step - loss: 12.6001 - mae: 12.6001 - mse: 186.7101 - val_loss: 13.2759 - val_mae: 13.2759 - val_mse: 205.0843\n",
            "Epoch 61/300\n",
            "10/10 [==============================] - 0s 3ms/step - loss: 12.4826 - mae: 12.4826 - mse: 183.4720 - val_loss: 13.1516 - val_mae: 13.1516 - val_mse: 201.4718\n",
            "Epoch 62/300\n",
            "10/10 [==============================] - 0s 3ms/step - loss: 12.3654 - mae: 12.3654 - mse: 180.2742 - val_loss: 13.0270 - val_mae: 13.0270 - val_mse: 197.8829\n",
            "Epoch 63/300\n",
            "10/10 [==============================] - 0s 3ms/step - loss: 12.2479 - mae: 12.2479 - mse: 177.1015 - val_loss: 12.9023 - val_mae: 12.9023 - val_mse: 194.3239\n",
            "Epoch 64/300\n",
            "10/10 [==============================] - 0s 3ms/step - loss: 12.1304 - mae: 12.1304 - mse: 173.9627 - val_loss: 12.7775 - val_mae: 12.7775 - val_mse: 190.7967\n",
            "Epoch 65/300\n",
            "10/10 [==============================] - 0s 3ms/step - loss: 12.0124 - mae: 12.0124 - mse: 170.8128 - val_loss: 12.6532 - val_mae: 12.6532 - val_mse: 187.3162\n",
            "Epoch 66/300\n",
            "10/10 [==============================] - 0s 3ms/step - loss: 11.8952 - mae: 11.8952 - mse: 167.7573 - val_loss: 12.5286 - val_mae: 12.5286 - val_mse: 183.8631\n",
            "Epoch 67/300\n",
            "10/10 [==============================] - 0s 3ms/step - loss: 11.7782 - mae: 11.7782 - mse: 164.7124 - val_loss: 12.4036 - val_mae: 12.4036 - val_mse: 180.4280\n",
            "Epoch 68/300\n",
            "10/10 [==============================] - 0s 3ms/step - loss: 11.6589 - mae: 11.6589 - mse: 161.5843 - val_loss: 12.2803 - val_mae: 12.2803 - val_mse: 177.0763\n",
            "Epoch 69/300\n",
            "10/10 [==============================] - 0s 3ms/step - loss: 11.5426 - mae: 11.5426 - mse: 158.6551 - val_loss: 12.1556 - val_mae: 12.1556 - val_mse: 173.7186\n",
            "Epoch 70/300\n",
            "10/10 [==============================] - 0s 3ms/step - loss: 11.4256 - mae: 11.4256 - mse: 155.6848 - val_loss: 12.0308 - val_mae: 12.0308 - val_mse: 170.3905\n",
            "Epoch 71/300\n",
            "10/10 [==============================] - 0s 3ms/step - loss: 11.3075 - mae: 11.3075 - mse: 152.6786 - val_loss: 11.9071 - val_mae: 11.9071 - val_mse: 167.1263\n",
            "Epoch 72/300\n",
            "10/10 [==============================] - 0s 3ms/step - loss: 11.1912 - mae: 11.1912 - mse: 149.8266 - val_loss: 11.7826 - val_mae: 11.7826 - val_mse: 163.8755\n",
            "Epoch 73/300\n",
            "10/10 [==============================] - 0s 3ms/step - loss: 11.0738 - mae: 11.0738 - mse: 146.8861 - val_loss: 11.6595 - val_mae: 11.6595 - val_mse: 160.6907\n",
            "Epoch 74/300\n",
            "10/10 [==============================] - 0s 3ms/step - loss: 10.9596 - mae: 10.9596 - mse: 144.1697 - val_loss: 11.5349 - val_mae: 11.5349 - val_mse: 157.5022\n",
            "Epoch 75/300\n",
            "10/10 [==============================] - 0s 3ms/step - loss: 10.8460 - mae: 10.8460 - mse: 141.3522 - val_loss: 11.4134 - val_mae: 11.4134 - val_mse: 154.3810\n",
            "Epoch 76/300\n",
            "10/10 [==============================] - 0s 3ms/step - loss: 10.7345 - mae: 10.7345 - mse: 138.5564 - val_loss: 11.2989 - val_mae: 11.2989 - val_mse: 151.3848\n",
            "Epoch 77/300\n",
            "10/10 [==============================] - 0s 3ms/step - loss: 10.6306 - mae: 10.6306 - mse: 135.9670 - val_loss: 11.1901 - val_mae: 11.1901 - val_mse: 148.4353\n",
            "Epoch 78/300\n",
            "10/10 [==============================] - 0s 3ms/step - loss: 10.5274 - mae: 10.5274 - mse: 133.4154 - val_loss: 11.0873 - val_mae: 11.0873 - val_mse: 145.5807\n",
            "Epoch 79/300\n",
            "10/10 [==============================] - 0s 3ms/step - loss: 10.4287 - mae: 10.4287 - mse: 130.8266 - val_loss: 10.9868 - val_mae: 10.9868 - val_mse: 142.8151\n",
            "Epoch 80/300\n",
            "10/10 [==============================] - 0s 3ms/step - loss: 10.3359 - mae: 10.3359 - mse: 128.4299 - val_loss: 10.8876 - val_mae: 10.8876 - val_mse: 140.1152\n",
            "Epoch 81/300\n",
            "10/10 [==============================] - 0s 3ms/step - loss: 10.2461 - mae: 10.2461 - mse: 126.0491 - val_loss: 10.7906 - val_mae: 10.7906 - val_mse: 137.5014\n",
            "Epoch 82/300\n",
            "10/10 [==============================] - 0s 3ms/step - loss: 10.1560 - mae: 10.1560 - mse: 123.7758 - val_loss: 10.6966 - val_mae: 10.6966 - val_mse: 134.9940\n",
            "Epoch 83/300\n",
            "10/10 [==============================] - 0s 3ms/step - loss: 10.0707 - mae: 10.0707 - mse: 121.5292 - val_loss: 10.6001 - val_mae: 10.6001 - val_mse: 132.4432\n",
            "Epoch 84/300\n",
            "10/10 [==============================] - 0s 3ms/step - loss: 9.9817 - mae: 9.9817 - mse: 119.2509 - val_loss: 10.5050 - val_mae: 10.5050 - val_mse: 129.9568\n",
            "Epoch 85/300\n",
            "10/10 [==============================] - 0s 4ms/step - loss: 9.8949 - mae: 9.8949 - mse: 117.0590 - val_loss: 10.4084 - val_mae: 10.4084 - val_mse: 127.4544\n",
            "Epoch 86/300\n",
            "10/10 [==============================] - 0s 3ms/step - loss: 9.8069 - mae: 9.8069 - mse: 114.8332 - val_loss: 10.3117 - val_mae: 10.3117 - val_mse: 124.9767\n",
            "Epoch 87/300\n",
            "10/10 [==============================] - 0s 3ms/step - loss: 9.7185 - mae: 9.7185 - mse: 112.6357 - val_loss: 10.2153 - val_mae: 10.2153 - val_mse: 122.5305\n",
            "Epoch 88/300\n",
            "10/10 [==============================] - 0s 3ms/step - loss: 9.6309 - mae: 9.6309 - mse: 110.4873 - val_loss: 10.1179 - val_mae: 10.1179 - val_mse: 120.0864\n",
            "Epoch 89/300\n",
            "10/10 [==============================] - 0s 3ms/step - loss: 9.5415 - mae: 9.5415 - mse: 108.3237 - val_loss: 10.0216 - val_mae: 10.0216 - val_mse: 117.6944\n",
            "Epoch 90/300\n",
            "10/10 [==============================] - 0s 4ms/step - loss: 9.4546 - mae: 9.4546 - mse: 106.2354 - val_loss: 9.9235 - val_mae: 9.9235 - val_mse: 115.2847\n",
            "Epoch 91/300\n",
            "10/10 [==============================] - 0s 3ms/step - loss: 9.3629 - mae: 9.3629 - mse: 104.0480 - val_loss: 9.8284 - val_mae: 9.8284 - val_mse: 112.9743\n",
            "Epoch 92/300\n",
            "10/10 [==============================] - 0s 5ms/step - loss: 9.2766 - mae: 9.2766 - mse: 102.0199 - val_loss: 9.7303 - val_mae: 9.7303 - val_mse: 110.6163\n",
            "Epoch 93/300\n",
            "10/10 [==============================] - 0s 3ms/step - loss: 9.1871 - mae: 9.1871 - mse: 99.9410 - val_loss: 9.6324 - val_mae: 9.6324 - val_mse: 108.2899\n",
            "Epoch 94/300\n",
            "10/10 [==============================] - 0s 3ms/step - loss: 9.0971 - mae: 9.0971 - mse: 97.8591 - val_loss: 9.5353 - val_mae: 9.5353 - val_mse: 106.0081\n",
            "Epoch 95/300\n",
            "10/10 [==============================] - 0s 3ms/step - loss: 9.0082 - mae: 9.0082 - mse: 95.8431 - val_loss: 9.4376 - val_mae: 9.4376 - val_mse: 103.7404\n",
            "Epoch 96/300\n",
            "10/10 [==============================] - 0s 3ms/step - loss: 8.9183 - mae: 8.9183 - mse: 93.8396 - val_loss: 9.3403 - val_mae: 9.3403 - val_mse: 101.5060\n",
            "Epoch 97/300\n",
            "10/10 [==============================] - 0s 3ms/step - loss: 8.8306 - mae: 8.8306 - mse: 91.8603 - val_loss: 9.2406 - val_mae: 9.2406 - val_mse: 99.2439\n",
            "Epoch 98/300\n",
            "10/10 [==============================] - 0s 3ms/step - loss: 8.7395 - mae: 8.7395 - mse: 89.8718 - val_loss: 9.1424 - val_mae: 9.1424 - val_mse: 97.0425\n",
            "Epoch 99/300\n",
            "10/10 [==============================] - 0s 3ms/step - loss: 8.6497 - mae: 8.6497 - mse: 87.9433 - val_loss: 9.0441 - val_mae: 9.0441 - val_mse: 94.8658\n",
            "Epoch 100/300\n",
            "10/10 [==============================] - 0s 3ms/step - loss: 8.5599 - mae: 8.5599 - mse: 86.0193 - val_loss: 8.9453 - val_mae: 8.9453 - val_mse: 92.7047\n",
            "Epoch 101/300\n",
            "10/10 [==============================] - 0s 6ms/step - loss: 8.4691 - mae: 8.4691 - mse: 84.0773 - val_loss: 8.8468 - val_mae: 8.8468 - val_mse: 90.5772\n",
            "Epoch 102/300\n",
            "10/10 [==============================] - 0s 3ms/step - loss: 8.3786 - mae: 8.3786 - mse: 82.2011 - val_loss: 8.7486 - val_mae: 8.7486 - val_mse: 88.4826\n",
            "Epoch 103/300\n",
            "10/10 [==============================] - 0s 3ms/step - loss: 8.2884 - mae: 8.2884 - mse: 80.3190 - val_loss: 8.6499 - val_mae: 8.6499 - val_mse: 86.4031\n",
            "Epoch 104/300\n",
            "10/10 [==============================] - 0s 3ms/step - loss: 8.1991 - mae: 8.1991 - mse: 78.5111 - val_loss: 8.5497 - val_mae: 8.5497 - val_mse: 84.3195\n",
            "Epoch 105/300\n",
            "10/10 [==============================] - 0s 3ms/step - loss: 8.1064 - mae: 8.1064 - mse: 76.6418 - val_loss: 8.4514 - val_mae: 8.4514 - val_mse: 82.3032\n",
            "Epoch 106/300\n",
            "10/10 [==============================] - 0s 3ms/step - loss: 8.0167 - mae: 8.0167 - mse: 74.8778 - val_loss: 8.3516 - val_mae: 8.3516 - val_mse: 80.2834\n",
            "Epoch 107/300\n",
            "10/10 [==============================] - 0s 3ms/step - loss: 7.9249 - mae: 7.9249 - mse: 73.0477 - val_loss: 8.2527 - val_mae: 8.2527 - val_mse: 78.3077\n",
            "Epoch 108/300\n",
            "10/10 [==============================] - 0s 3ms/step - loss: 7.8359 - mae: 7.8359 - mse: 71.3556 - val_loss: 8.1512 - val_mae: 8.1512 - val_mse: 76.3088\n",
            "Epoch 109/300\n",
            "10/10 [==============================] - 0s 3ms/step - loss: 7.7435 - mae: 7.7435 - mse: 69.5997 - val_loss: 8.0510 - val_mae: 8.0510 - val_mse: 74.3641\n",
            "Epoch 110/300\n",
            "10/10 [==============================] - 0s 3ms/step - loss: 7.6513 - mae: 7.6513 - mse: 67.8691 - val_loss: 7.9517 - val_mae: 7.9517 - val_mse: 72.4629\n",
            "Epoch 111/300\n",
            "10/10 [==============================] - 0s 4ms/step - loss: 7.5605 - mae: 7.5605 - mse: 66.1991 - val_loss: 7.8517 - val_mae: 7.8517 - val_mse: 70.5751\n",
            "Epoch 112/300\n",
            "10/10 [==============================] - 0s 3ms/step - loss: 7.4689 - mae: 7.4689 - mse: 64.5386 - val_loss: 7.7515 - val_mae: 7.7515 - val_mse: 68.7128\n",
            "Epoch 113/300\n",
            "10/10 [==============================] - 0s 3ms/step - loss: 7.3789 - mae: 7.3789 - mse: 62.8975 - val_loss: 7.6496 - val_mae: 7.6496 - val_mse: 66.8464\n",
            "Epoch 114/300\n",
            "10/10 [==============================] - 0s 3ms/step - loss: 7.2840 - mae: 7.2840 - mse: 61.2220 - val_loss: 7.5510 - val_mae: 7.5510 - val_mse: 65.0674\n",
            "Epoch 115/300\n",
            "10/10 [==============================] - 0s 3ms/step - loss: 7.1940 - mae: 7.1940 - mse: 59.6629 - val_loss: 7.4503 - val_mae: 7.4503 - val_mse: 63.2789\n",
            "Epoch 116/300\n",
            "10/10 [==============================] - 0s 3ms/step - loss: 7.1016 - mae: 7.1016 - mse: 58.0702 - val_loss: 7.3499 - val_mae: 7.3499 - val_mse: 61.5232\n",
            "Epoch 117/300\n",
            "10/10 [==============================] - 0s 3ms/step - loss: 7.0089 - mae: 7.0089 - mse: 56.5048 - val_loss: 7.2501 - val_mae: 7.2501 - val_mse: 59.8061\n",
            "Epoch 118/300\n",
            "10/10 [==============================] - 0s 4ms/step - loss: 6.9184 - mae: 6.9184 - mse: 55.0144 - val_loss: 7.1482 - val_mae: 7.1482 - val_mse: 58.0800\n",
            "Epoch 119/300\n",
            "10/10 [==============================] - 0s 3ms/step - loss: 6.8254 - mae: 6.8254 - mse: 53.4850 - val_loss: 7.0472 - val_mae: 7.0472 - val_mse: 56.3971\n",
            "Epoch 120/300\n",
            "10/10 [==============================] - 0s 3ms/step - loss: 6.7322 - mae: 6.7322 - mse: 51.9944 - val_loss: 6.9467 - val_mae: 6.9467 - val_mse: 54.7513\n",
            "Epoch 121/300\n",
            "10/10 [==============================] - 0s 3ms/step - loss: 6.6403 - mae: 6.6403 - mse: 50.5167 - val_loss: 6.8455 - val_mae: 6.8455 - val_mse: 53.1223\n",
            "Epoch 122/300\n",
            "10/10 [==============================] - 0s 4ms/step - loss: 6.5470 - mae: 6.5470 - mse: 49.1051 - val_loss: 6.7448 - val_mae: 6.7448 - val_mse: 51.5292\n",
            "Epoch 123/300\n",
            "10/10 [==============================] - 0s 3ms/step - loss: 6.4567 - mae: 6.4567 - mse: 47.7006 - val_loss: 6.6415 - val_mae: 6.6415 - val_mse: 49.9235\n",
            "Epoch 124/300\n",
            "10/10 [==============================] - 0s 4ms/step - loss: 6.3619 - mae: 6.3619 - mse: 46.2796 - val_loss: 6.5403 - val_mae: 6.5403 - val_mse: 48.3785\n",
            "Epoch 125/300\n",
            "10/10 [==============================] - 0s 3ms/step - loss: 6.2683 - mae: 6.2683 - mse: 44.9073 - val_loss: 6.4396 - val_mae: 6.4396 - val_mse: 46.8700\n",
            "Epoch 126/300\n",
            "10/10 [==============================] - 0s 3ms/step - loss: 6.1785 - mae: 6.1785 - mse: 43.6148 - val_loss: 6.3355 - val_mae: 6.3355 - val_mse: 45.3397\n",
            "Epoch 127/300\n",
            "10/10 [==============================] - 0s 3ms/step - loss: 6.0823 - mae: 6.0823 - mse: 42.2607 - val_loss: 6.2349 - val_mae: 6.2349 - val_mse: 43.8885\n",
            "Epoch 128/300\n",
            "10/10 [==============================] - 0s 3ms/step - loss: 5.9900 - mae: 5.9900 - mse: 40.9874 - val_loss: 6.1334 - val_mae: 6.1334 - val_mse: 42.4522\n",
            "Epoch 129/300\n",
            "10/10 [==============================] - 0s 4ms/step - loss: 5.8972 - mae: 5.8972 - mse: 39.7206 - val_loss: 6.0312 - val_mae: 6.0312 - val_mse: 41.0362\n",
            "Epoch 130/300\n",
            "10/10 [==============================] - 0s 3ms/step - loss: 5.8029 - mae: 5.8029 - mse: 38.4538 - val_loss: 5.9298 - val_mae: 5.9298 - val_mse: 39.6584\n",
            "Epoch 131/300\n",
            "10/10 [==============================] - 0s 3ms/step - loss: 5.7125 - mae: 5.7125 - mse: 37.2852 - val_loss: 5.8251 - val_mae: 5.8251 - val_mse: 38.2656\n",
            "Epoch 132/300\n",
            "10/10 [==============================] - 0s 3ms/step - loss: 5.6157 - mae: 5.6157 - mse: 36.0436 - val_loss: 5.7242 - val_mae: 5.7242 - val_mse: 36.9533\n",
            "Epoch 133/300\n",
            "10/10 [==============================] - 0s 3ms/step - loss: 5.5242 - mae: 5.5242 - mse: 34.8925 - val_loss: 5.6213 - val_mae: 5.6213 - val_mse: 35.6421\n",
            "Epoch 134/300\n",
            "10/10 [==============================] - 0s 3ms/step - loss: 5.4298 - mae: 5.4298 - mse: 33.7299 - val_loss: 5.5191 - val_mae: 5.5191 - val_mse: 34.3691\n",
            "Epoch 135/300\n",
            "10/10 [==============================] - 0s 3ms/step - loss: 5.3358 - mae: 5.3358 - mse: 32.6102 - val_loss: 5.4172 - val_mae: 5.4172 - val_mse: 33.1289\n",
            "Epoch 136/300\n",
            "10/10 [==============================] - 0s 3ms/step - loss: 5.2420 - mae: 5.2420 - mse: 31.5124 - val_loss: 5.3155 - val_mae: 5.3155 - val_mse: 31.9191\n",
            "Epoch 137/300\n",
            "10/10 [==============================] - 0s 3ms/step - loss: 5.1498 - mae: 5.1498 - mse: 30.4553 - val_loss: 5.2120 - val_mae: 5.2120 - val_mse: 30.7177\n",
            "Epoch 138/300\n",
            "10/10 [==============================] - 0s 3ms/step - loss: 5.0546 - mae: 5.0546 - mse: 29.4058 - val_loss: 5.1104 - val_mae: 5.1104 - val_mse: 29.5670\n",
            "Epoch 139/300\n",
            "10/10 [==============================] - 0s 4ms/step - loss: 4.9629 - mae: 4.9629 - mse: 28.4047 - val_loss: 5.0088 - val_mae: 5.0088 - val_mse: 28.4289\n",
            "Epoch 140/300\n",
            "10/10 [==============================] - 0s 3ms/step - loss: 4.8686 - mae: 4.8686 - mse: 27.3921 - val_loss: 4.9089 - val_mae: 4.9089 - val_mse: 27.3315\n",
            "Epoch 141/300\n",
            "10/10 [==============================] - 0s 3ms/step - loss: 4.7759 - mae: 4.7759 - mse: 26.4364 - val_loss: 4.8082 - val_mae: 4.8082 - val_mse: 26.2531\n",
            "Epoch 142/300\n",
            "10/10 [==============================] - 0s 3ms/step - loss: 4.6825 - mae: 4.6825 - mse: 25.4974 - val_loss: 4.7074 - val_mae: 4.7074 - val_mse: 25.2035\n",
            "Epoch 143/300\n",
            "10/10 [==============================] - 0s 3ms/step - loss: 4.5883 - mae: 4.5883 - mse: 24.5670 - val_loss: 4.6074 - val_mae: 4.6074 - val_mse: 24.1899\n",
            "Epoch 144/300\n",
            "10/10 [==============================] - 0s 3ms/step - loss: 4.4969 - mae: 4.4969 - mse: 23.7104 - val_loss: 4.5050 - val_mae: 4.5050 - val_mse: 23.1829\n",
            "Epoch 145/300\n",
            "10/10 [==============================] - 0s 3ms/step - loss: 4.4006 - mae: 4.4006 - mse: 22.8092 - val_loss: 4.4055 - val_mae: 4.4055 - val_mse: 22.2323\n",
            "Epoch 146/300\n",
            "10/10 [==============================] - 0s 4ms/step - loss: 4.3096 - mae: 4.3096 - mse: 21.9909 - val_loss: 4.3050 - val_mae: 4.3050 - val_mse: 21.3014\n",
            "Epoch 147/300\n",
            "10/10 [==============================] - 0s 3ms/step - loss: 4.2179 - mae: 4.2179 - mse: 21.1801 - val_loss: 4.2045 - val_mae: 4.2045 - val_mse: 20.3997\n",
            "Epoch 148/300\n",
            "10/10 [==============================] - 0s 3ms/step - loss: 4.1244 - mae: 4.1244 - mse: 20.3746 - val_loss: 4.1058 - val_mae: 4.1058 - val_mse: 19.5424\n",
            "Epoch 149/300\n",
            "10/10 [==============================] - 0s 3ms/step - loss: 4.0344 - mae: 4.0344 - mse: 19.6319 - val_loss: 4.0051 - val_mae: 4.0051 - val_mse: 18.6964\n",
            "Epoch 150/300\n",
            "10/10 [==============================] - 0s 3ms/step - loss: 3.9419 - mae: 3.9419 - mse: 18.8948 - val_loss: 3.9057 - val_mae: 3.9057 - val_mse: 17.8896\n",
            "Epoch 151/300\n",
            "10/10 [==============================] - 0s 4ms/step - loss: 3.8517 - mae: 3.8517 - mse: 18.2080 - val_loss: 3.8062 - val_mae: 3.8062 - val_mse: 17.1103\n",
            "Epoch 152/300\n",
            "10/10 [==============================] - 0s 3ms/step - loss: 3.7625 - mae: 3.7625 - mse: 17.5171 - val_loss: 3.7080 - val_mae: 3.7080 - val_mse: 16.3694\n",
            "Epoch 153/300\n",
            "10/10 [==============================] - 0s 3ms/step - loss: 3.6754 - mae: 3.6754 - mse: 16.8813 - val_loss: 3.6090 - val_mae: 3.6090 - val_mse: 15.6504\n",
            "Epoch 154/300\n",
            "10/10 [==============================] - 0s 3ms/step - loss: 3.5886 - mae: 3.5886 - mse: 16.2674 - val_loss: 3.5119 - val_mae: 3.5119 - val_mse: 14.9723\n",
            "Epoch 155/300\n",
            "10/10 [==============================] - 0s 4ms/step - loss: 3.5033 - mae: 3.5033 - mse: 15.6900 - val_loss: 3.4159 - val_mae: 3.4159 - val_mse: 14.3283\n",
            "Epoch 156/300\n",
            "10/10 [==============================] - 0s 3ms/step - loss: 3.4209 - mae: 3.4209 - mse: 15.1314 - val_loss: 3.3182 - val_mae: 3.3182 - val_mse: 13.7002\n",
            "Epoch 157/300\n",
            "10/10 [==============================] - 0s 3ms/step - loss: 3.3347 - mae: 3.3347 - mse: 14.5893 - val_loss: 3.2237 - val_mae: 3.2237 - val_mse: 13.1186\n",
            "Epoch 158/300\n",
            "10/10 [==============================] - 0s 3ms/step - loss: 3.2525 - mae: 3.2525 - mse: 14.0778 - val_loss: 3.1280 - val_mae: 3.1280 - val_mse: 12.5556\n",
            "Epoch 159/300\n",
            "10/10 [==============================] - 0s 3ms/step - loss: 3.1689 - mae: 3.1689 - mse: 13.5954 - val_loss: 3.0348 - val_mae: 3.0348 - val_mse: 12.0200\n",
            "Epoch 160/300\n",
            "10/10 [==============================] - 0s 3ms/step - loss: 3.0866 - mae: 3.0866 - mse: 13.1295 - val_loss: 2.9470 - val_mae: 2.9470 - val_mse: 11.5224\n",
            "Epoch 161/300\n",
            "10/10 [==============================] - 0s 3ms/step - loss: 3.0090 - mae: 3.0090 - mse: 12.7027 - val_loss: 2.8586 - val_mae: 2.8586 - val_mse: 11.0410\n",
            "Epoch 162/300\n",
            "10/10 [==============================] - 0s 4ms/step - loss: 2.9287 - mae: 2.9287 - mse: 12.2948 - val_loss: 2.7719 - val_mae: 2.7719 - val_mse: 10.5933\n",
            "Epoch 163/300\n",
            "10/10 [==============================] - 0s 4ms/step - loss: 2.8498 - mae: 2.8498 - mse: 11.8982 - val_loss: 2.6888 - val_mae: 2.6888 - val_mse: 10.1800\n",
            "Epoch 164/300\n",
            "10/10 [==============================] - 0s 4ms/step - loss: 2.7777 - mae: 2.7777 - mse: 11.5634 - val_loss: 2.6043 - val_mae: 2.6043 - val_mse: 9.7802\n",
            "Epoch 165/300\n",
            "10/10 [==============================] - 0s 3ms/step - loss: 2.7026 - mae: 2.7026 - mse: 11.2305 - val_loss: 2.5219 - val_mae: 2.5219 - val_mse: 9.4146\n",
            "Epoch 166/300\n",
            "10/10 [==============================] - 0s 3ms/step - loss: 2.6306 - mae: 2.6306 - mse: 10.9288 - val_loss: 2.4409 - val_mae: 2.4409 - val_mse: 9.0783\n",
            "Epoch 167/300\n",
            "10/10 [==============================] - 0s 3ms/step - loss: 2.5569 - mae: 2.5569 - mse: 10.6103 - val_loss: 2.3648 - val_mae: 2.3648 - val_mse: 8.7810\n",
            "Epoch 168/300\n",
            "10/10 [==============================] - 0s 3ms/step - loss: 2.4915 - mae: 2.4915 - mse: 10.3677 - val_loss: 2.2890 - val_mae: 2.2890 - val_mse: 8.5010\n",
            "Epoch 169/300\n",
            "10/10 [==============================] - 0s 3ms/step - loss: 2.4324 - mae: 2.4324 - mse: 10.1616 - val_loss: 2.2133 - val_mae: 2.2133 - val_mse: 8.2424\n",
            "Epoch 170/300\n",
            "10/10 [==============================] - 0s 3ms/step - loss: 2.3727 - mae: 2.3727 - mse: 9.9403 - val_loss: 2.1439 - val_mae: 2.1439 - val_mse: 8.0217\n",
            "Epoch 171/300\n",
            "10/10 [==============================] - 0s 3ms/step - loss: 2.3220 - mae: 2.3220 - mse: 9.7636 - val_loss: 2.0810 - val_mae: 2.0810 - val_mse: 7.8308\n",
            "Epoch 172/300\n",
            "10/10 [==============================] - 0s 3ms/step - loss: 2.2797 - mae: 2.2797 - mse: 9.6016 - val_loss: 2.0223 - val_mae: 2.0223 - val_mse: 7.6674\n",
            "Epoch 173/300\n",
            "10/10 [==============================] - 0s 3ms/step - loss: 2.2388 - mae: 2.2388 - mse: 9.4654 - val_loss: 1.9675 - val_mae: 1.9675 - val_mse: 7.5251\n",
            "Epoch 174/300\n",
            "10/10 [==============================] - 0s 3ms/step - loss: 2.2028 - mae: 2.2028 - mse: 9.3619 - val_loss: 1.9186 - val_mae: 1.9186 - val_mse: 7.3991\n",
            "Epoch 175/300\n",
            "10/10 [==============================] - 0s 4ms/step - loss: 2.1705 - mae: 2.1705 - mse: 9.2524 - val_loss: 1.8775 - val_mae: 1.8775 - val_mse: 7.2998\n",
            "Epoch 176/300\n",
            "10/10 [==============================] - 0s 3ms/step - loss: 2.1440 - mae: 2.1440 - mse: 9.1783 - val_loss: 1.8365 - val_mae: 1.8365 - val_mse: 7.2084\n",
            "Epoch 177/300\n",
            "10/10 [==============================] - 0s 3ms/step - loss: 2.1182 - mae: 2.1182 - mse: 9.1093 - val_loss: 1.7992 - val_mae: 1.7992 - val_mse: 7.1247\n",
            "Epoch 178/300\n",
            "10/10 [==============================] - 0s 3ms/step - loss: 2.0921 - mae: 2.0921 - mse: 9.0367 - val_loss: 1.7704 - val_mae: 1.7704 - val_mse: 7.0559\n",
            "Epoch 179/300\n",
            "10/10 [==============================] - 0s 3ms/step - loss: 2.0688 - mae: 2.0688 - mse: 8.9788 - val_loss: 1.7420 - val_mae: 1.7420 - val_mse: 6.9963\n",
            "Epoch 180/300\n",
            "10/10 [==============================] - 0s 3ms/step - loss: 2.0460 - mae: 2.0460 - mse: 8.9343 - val_loss: 1.7177 - val_mae: 1.7177 - val_mse: 6.9467\n",
            "Epoch 181/300\n",
            "10/10 [==============================] - 0s 3ms/step - loss: 2.0284 - mae: 2.0284 - mse: 8.9026 - val_loss: 1.7012 - val_mae: 1.7012 - val_mse: 6.9071\n",
            "Epoch 182/300\n",
            "10/10 [==============================] - 0s 3ms/step - loss: 2.0129 - mae: 2.0129 - mse: 8.8790 - val_loss: 1.6853 - val_mae: 1.6853 - val_mse: 6.8747\n",
            "Epoch 183/300\n",
            "10/10 [==============================] - 0s 4ms/step - loss: 1.9969 - mae: 1.9969 - mse: 8.8519 - val_loss: 1.6705 - val_mae: 1.6705 - val_mse: 6.8494\n",
            "Epoch 184/300\n",
            "10/10 [==============================] - 0s 3ms/step - loss: 1.9830 - mae: 1.9830 - mse: 8.8282 - val_loss: 1.6596 - val_mae: 1.6596 - val_mse: 6.8308\n",
            "Epoch 185/300\n",
            "10/10 [==============================] - 0s 3ms/step - loss: 1.9723 - mae: 1.9723 - mse: 8.8190 - val_loss: 1.6493 - val_mae: 1.6493 - val_mse: 6.8167\n",
            "Epoch 186/300\n",
            "10/10 [==============================] - 0s 4ms/step - loss: 1.9634 - mae: 1.9634 - mse: 8.8158 - val_loss: 1.6396 - val_mae: 1.6396 - val_mse: 6.8066\n",
            "Epoch 187/300\n",
            "10/10 [==============================] - 0s 3ms/step - loss: 1.9545 - mae: 1.9545 - mse: 8.8112 - val_loss: 1.6327 - val_mae: 1.6327 - val_mse: 6.8008\n",
            "Epoch 188/300\n",
            "10/10 [==============================] - 0s 3ms/step - loss: 1.9478 - mae: 1.9478 - mse: 8.8068 - val_loss: 1.6275 - val_mae: 1.6275 - val_mse: 6.7981\n",
            "Epoch 189/300\n",
            "10/10 [==============================] - 0s 5ms/step - loss: 1.9421 - mae: 1.9421 - mse: 8.8057 - val_loss: 1.6225 - val_mae: 1.6225 - val_mse: 6.7976\n",
            "Epoch 190/300\n",
            "10/10 [==============================] - 0s 5ms/step - loss: 1.9365 - mae: 1.9365 - mse: 8.8128 - val_loss: 1.6176 - val_mae: 1.6176 - val_mse: 6.7991\n",
            "Epoch 191/300\n",
            "10/10 [==============================] - 0s 3ms/step - loss: 1.9316 - mae: 1.9316 - mse: 8.8136 - val_loss: 1.6154 - val_mae: 1.6154 - val_mse: 6.8027\n",
            "Epoch 192/300\n",
            "10/10 [==============================] - 0s 4ms/step - loss: 1.9281 - mae: 1.9281 - mse: 8.8169 - val_loss: 1.6162 - val_mae: 1.6162 - val_mse: 6.8059\n",
            "Epoch 193/300\n",
            "10/10 [==============================] - 0s 3ms/step - loss: 1.9265 - mae: 1.9265 - mse: 8.8217 - val_loss: 1.6169 - val_mae: 1.6169 - val_mse: 6.8091\n",
            "Epoch 194/300\n",
            "10/10 [==============================] - 0s 3ms/step - loss: 1.9253 - mae: 1.9253 - mse: 8.8275 - val_loss: 1.6176 - val_mae: 1.6176 - val_mse: 6.8133\n",
            "Epoch 195/300\n",
            "10/10 [==============================] - 0s 3ms/step - loss: 1.9234 - mae: 1.9234 - mse: 8.8287 - val_loss: 1.6181 - val_mae: 1.6181 - val_mse: 6.8165\n",
            "Epoch 196/300\n",
            "10/10 [==============================] - 0s 3ms/step - loss: 1.9221 - mae: 1.9221 - mse: 8.8329 - val_loss: 1.6187 - val_mae: 1.6187 - val_mse: 6.8204\n",
            "Epoch 197/300\n",
            "10/10 [==============================] - 0s 3ms/step - loss: 1.9208 - mae: 1.9208 - mse: 8.8381 - val_loss: 1.6193 - val_mae: 1.6193 - val_mse: 6.8252\n",
            "Epoch 198/300\n",
            "10/10 [==============================] - 0s 3ms/step - loss: 1.9198 - mae: 1.9198 - mse: 8.8439 - val_loss: 1.6207 - val_mae: 1.6207 - val_mse: 6.8316\n",
            "Epoch 199/300\n",
            "10/10 [==============================] - 0s 3ms/step - loss: 1.9181 - mae: 1.9181 - mse: 8.8484 - val_loss: 1.6215 - val_mae: 1.6215 - val_mse: 6.8360\n",
            "Epoch 200/300\n",
            "10/10 [==============================] - 0s 3ms/step - loss: 1.9172 - mae: 1.9172 - mse: 8.8563 - val_loss: 1.6228 - val_mae: 1.6228 - val_mse: 6.8426\n",
            "Epoch 201/300\n",
            "10/10 [==============================] - 0s 4ms/step - loss: 1.9160 - mae: 1.9160 - mse: 8.8630 - val_loss: 1.6239 - val_mae: 1.6239 - val_mse: 6.8491\n",
            "Epoch 202/300\n",
            "10/10 [==============================] - 0s 4ms/step - loss: 1.9151 - mae: 1.9151 - mse: 8.8732 - val_loss: 1.6256 - val_mae: 1.6256 - val_mse: 6.8570\n",
            "Epoch 203/300\n",
            "10/10 [==============================] - 0s 3ms/step - loss: 1.9142 - mae: 1.9142 - mse: 8.8749 - val_loss: 1.6262 - val_mae: 1.6262 - val_mse: 6.8587\n",
            "Epoch 204/300\n",
            "10/10 [==============================] - 0s 3ms/step - loss: 1.9142 - mae: 1.9142 - mse: 8.8779 - val_loss: 1.6276 - val_mae: 1.6276 - val_mse: 6.8633\n",
            "Epoch 205/300\n",
            "10/10 [==============================] - 0s 4ms/step - loss: 1.9139 - mae: 1.9139 - mse: 8.8808 - val_loss: 1.6280 - val_mae: 1.6280 - val_mse: 6.8645\n",
            "Epoch 206/300\n",
            "10/10 [==============================] - 0s 3ms/step - loss: 1.9138 - mae: 1.9138 - mse: 8.8833 - val_loss: 1.6289 - val_mae: 1.6289 - val_mse: 6.8676\n",
            "Epoch 207/300\n",
            "10/10 [==============================] - 0s 3ms/step - loss: 1.9138 - mae: 1.9138 - mse: 8.8871 - val_loss: 1.6299 - val_mae: 1.6299 - val_mse: 6.8713\n",
            "Epoch 208/300\n",
            "10/10 [==============================] - 0s 3ms/step - loss: 1.9134 - mae: 1.9134 - mse: 8.8893 - val_loss: 1.6304 - val_mae: 1.6304 - val_mse: 6.8727\n",
            "Epoch 209/300\n",
            "10/10 [==============================] - 0s 4ms/step - loss: 1.9133 - mae: 1.9133 - mse: 8.8907 - val_loss: 1.6310 - val_mae: 1.6310 - val_mse: 6.8750\n",
            "Epoch 210/300\n",
            "10/10 [==============================] - 0s 3ms/step - loss: 1.9133 - mae: 1.9133 - mse: 8.8947 - val_loss: 1.6319 - val_mae: 1.6319 - val_mse: 6.8781\n",
            "Epoch 211/300\n",
            "10/10 [==============================] - 0s 3ms/step - loss: 1.9130 - mae: 1.9130 - mse: 8.8953 - val_loss: 1.6320 - val_mae: 1.6320 - val_mse: 6.8784\n",
            "Epoch 212/300\n",
            "10/10 [==============================] - 0s 3ms/step - loss: 1.9129 - mae: 1.9129 - mse: 8.8984 - val_loss: 1.6329 - val_mae: 1.6329 - val_mse: 6.8819\n",
            "Epoch 213/300\n",
            "10/10 [==============================] - 0s 3ms/step - loss: 1.9128 - mae: 1.9128 - mse: 8.9011 - val_loss: 1.6336 - val_mae: 1.6336 - val_mse: 6.8844\n",
            "Epoch 214/300\n",
            "10/10 [==============================] - 0s 3ms/step - loss: 1.9127 - mae: 1.9127 - mse: 8.9041 - val_loss: 1.6346 - val_mae: 1.6346 - val_mse: 6.8884\n",
            "Epoch 215/300\n",
            "10/10 [==============================] - 0s 3ms/step - loss: 1.9124 - mae: 1.9124 - mse: 8.9053 - val_loss: 1.6349 - val_mae: 1.6349 - val_mse: 6.8893\n",
            "Epoch 216/300\n",
            "10/10 [==============================] - 0s 3ms/step - loss: 1.9123 - mae: 1.9123 - mse: 8.9088 - val_loss: 1.6359 - val_mae: 1.6359 - val_mse: 6.8934\n",
            "Epoch 217/300\n",
            "10/10 [==============================] - 0s 3ms/step - loss: 1.9121 - mae: 1.9121 - mse: 8.9127 - val_loss: 1.6367 - val_mae: 1.6367 - val_mse: 6.8968\n",
            "Epoch 218/300\n",
            "10/10 [==============================] - 0s 3ms/step - loss: 1.9119 - mae: 1.9119 - mse: 8.9139 - val_loss: 1.6370 - val_mae: 1.6370 - val_mse: 6.8977\n",
            "Epoch 219/300\n",
            "10/10 [==============================] - 0s 3ms/step - loss: 1.9118 - mae: 1.9118 - mse: 8.9170 - val_loss: 1.6380 - val_mae: 1.6380 - val_mse: 6.9022\n",
            "Epoch 220/300\n",
            "10/10 [==============================] - 0s 3ms/step - loss: 1.9116 - mae: 1.9116 - mse: 8.9200 - val_loss: 1.6385 - val_mae: 1.6385 - val_mse: 6.9041\n",
            "Epoch 221/300\n",
            "10/10 [==============================] - 0s 4ms/step - loss: 1.9116 - mae: 1.9116 - mse: 8.9240 - val_loss: 1.6398 - val_mae: 1.6398 - val_mse: 6.9098\n",
            "Epoch 222/300\n",
            "10/10 [==============================] - 0s 3ms/step - loss: 1.9113 - mae: 1.9113 - mse: 8.9283 - val_loss: 1.6405 - val_mae: 1.6405 - val_mse: 6.9131\n",
            "Epoch 223/300\n",
            "10/10 [==============================] - 0s 4ms/step - loss: 1.9111 - mae: 1.9111 - mse: 8.9306 - val_loss: 1.6410 - val_mae: 1.6410 - val_mse: 6.9153\n",
            "Epoch 224/300\n",
            "10/10 [==============================] - 0s 3ms/step - loss: 1.9109 - mae: 1.9109 - mse: 8.9330 - val_loss: 1.6415 - val_mae: 1.6415 - val_mse: 6.9174\n",
            "Epoch 225/300\n",
            "10/10 [==============================] - 0s 3ms/step - loss: 1.9110 - mae: 1.9110 - mse: 8.9371 - val_loss: 1.6428 - val_mae: 1.6428 - val_mse: 6.9235\n",
            "Epoch 226/300\n",
            "10/10 [==============================] - 0s 4ms/step - loss: 1.9106 - mae: 1.9106 - mse: 8.9405 - val_loss: 1.6435 - val_mae: 1.6435 - val_mse: 6.9258\n",
            "Epoch 227/300\n",
            "10/10 [==============================] - 0s 3ms/step - loss: 1.9104 - mae: 1.9104 - mse: 8.9427 - val_loss: 1.6439 - val_mae: 1.6439 - val_mse: 6.9271\n",
            "Epoch 228/300\n",
            "10/10 [==============================] - 0s 3ms/step - loss: 1.9103 - mae: 1.9103 - mse: 8.9457 - val_loss: 1.6451 - val_mae: 1.6451 - val_mse: 6.9318\n",
            "Epoch 229/300\n",
            "10/10 [==============================] - 0s 4ms/step - loss: 1.9102 - mae: 1.9102 - mse: 8.9517 - val_loss: 1.6465 - val_mae: 1.6465 - val_mse: 6.9373\n",
            "Epoch 230/300\n",
            "10/10 [==============================] - 0s 3ms/step - loss: 1.9102 - mae: 1.9102 - mse: 8.9577 - val_loss: 1.6477 - val_mae: 1.6477 - val_mse: 6.9418\n",
            "Epoch 231/300\n",
            "10/10 [==============================] - 0s 3ms/step - loss: 1.9099 - mae: 1.9099 - mse: 8.9563 - val_loss: 1.6468 - val_mae: 1.6468 - val_mse: 6.9379\n",
            "Epoch 232/300\n",
            "10/10 [==============================] - 0s 3ms/step - loss: 1.9099 - mae: 1.9099 - mse: 8.9527 - val_loss: 1.6465 - val_mae: 1.6465 - val_mse: 6.9360\n",
            "Epoch 233/300\n",
            "10/10 [==============================] - 0s 5ms/step - loss: 1.9098 - mae: 1.9098 - mse: 8.9526 - val_loss: 1.6467 - val_mae: 1.6467 - val_mse: 6.9366\n",
            "Epoch 234/300\n",
            "10/10 [==============================] - 0s 3ms/step - loss: 1.9098 - mae: 1.9098 - mse: 8.9538 - val_loss: 1.6468 - val_mae: 1.6468 - val_mse: 6.9368\n",
            "Epoch 235/300\n",
            "10/10 [==============================] - 0s 3ms/step - loss: 1.9100 - mae: 1.9100 - mse: 8.9556 - val_loss: 1.6477 - val_mae: 1.6477 - val_mse: 6.9397\n",
            "Epoch 236/300\n",
            "10/10 [==============================] - 0s 3ms/step - loss: 1.9098 - mae: 1.9098 - mse: 8.9535 - val_loss: 1.6466 - val_mae: 1.6466 - val_mse: 6.9352\n",
            "Epoch 237/300\n",
            "10/10 [==============================] - 0s 3ms/step - loss: 1.9097 - mae: 1.9097 - mse: 8.9508 - val_loss: 1.6463 - val_mae: 1.6463 - val_mse: 6.9336\n",
            "Epoch 238/300\n",
            "10/10 [==============================] - 0s 3ms/step - loss: 1.9097 - mae: 1.9097 - mse: 8.9506 - val_loss: 1.6467 - val_mae: 1.6467 - val_mse: 6.9349\n",
            "Epoch 239/300\n",
            "10/10 [==============================] - 0s 3ms/step - loss: 1.9097 - mae: 1.9097 - mse: 8.9523 - val_loss: 1.6467 - val_mae: 1.6467 - val_mse: 6.9346\n",
            "Epoch 240/300\n",
            "10/10 [==============================] - 0s 3ms/step - loss: 1.9096 - mae: 1.9096 - mse: 8.9517 - val_loss: 1.6468 - val_mae: 1.6468 - val_mse: 6.9347\n",
            "Epoch 241/300\n",
            "10/10 [==============================] - 0s 5ms/step - loss: 1.9095 - mae: 1.9095 - mse: 8.9510 - val_loss: 1.6465 - val_mae: 1.6465 - val_mse: 6.9331\n",
            "Epoch 242/300\n",
            "10/10 [==============================] - 0s 4ms/step - loss: 1.9097 - mae: 1.9097 - mse: 8.9481 - val_loss: 1.6459 - val_mae: 1.6459 - val_mse: 6.9300\n",
            "Epoch 243/300\n",
            "10/10 [==============================] - 0s 3ms/step - loss: 1.9096 - mae: 1.9096 - mse: 8.9491 - val_loss: 1.6467 - val_mae: 1.6467 - val_mse: 6.9332\n",
            "Epoch 244/300\n",
            "10/10 [==============================] - 0s 3ms/step - loss: 1.9097 - mae: 1.9097 - mse: 8.9520 - val_loss: 1.6472 - val_mae: 1.6472 - val_mse: 6.9347\n",
            "Epoch 245/300\n",
            "10/10 [==============================] - 0s 4ms/step - loss: 1.9095 - mae: 1.9095 - mse: 8.9475 - val_loss: 1.6459 - val_mae: 1.6459 - val_mse: 6.9289\n",
            "Epoch 246/300\n",
            "10/10 [==============================] - 0s 3ms/step - loss: 1.9096 - mae: 1.9096 - mse: 8.9480 - val_loss: 1.6470 - val_mae: 1.6470 - val_mse: 6.9332\n",
            "Epoch 247/300\n",
            "10/10 [==============================] - 0s 4ms/step - loss: 1.9095 - mae: 1.9095 - mse: 8.9473 - val_loss: 1.6460 - val_mae: 1.6460 - val_mse: 6.9289\n",
            "Epoch 248/300\n",
            "10/10 [==============================] - 0s 3ms/step - loss: 1.9094 - mae: 1.9094 - mse: 8.9485 - val_loss: 1.6467 - val_mae: 1.6467 - val_mse: 6.9310\n",
            "Epoch 249/300\n",
            "10/10 [==============================] - 0s 3ms/step - loss: 1.9093 - mae: 1.9093 - mse: 8.9474 - val_loss: 1.6463 - val_mae: 1.6463 - val_mse: 6.9293\n",
            "Epoch 250/300\n",
            "10/10 [==============================] - 0s 3ms/step - loss: 1.9094 - mae: 1.9094 - mse: 8.9456 - val_loss: 1.6460 - val_mae: 1.6460 - val_mse: 6.9273\n",
            "Epoch 251/300\n",
            "10/10 [==============================] - 0s 4ms/step - loss: 1.9092 - mae: 1.9092 - mse: 8.9447 - val_loss: 1.6464 - val_mae: 1.6464 - val_mse: 6.9289\n",
            "Epoch 252/300\n",
            "10/10 [==============================] - 0s 3ms/step - loss: 1.9096 - mae: 1.9096 - mse: 8.9511 - val_loss: 1.6481 - val_mae: 1.6481 - val_mse: 6.9350\n",
            "Epoch 253/300\n",
            "10/10 [==============================] - 0s 3ms/step - loss: 1.9093 - mae: 1.9093 - mse: 8.9511 - val_loss: 1.6475 - val_mae: 1.6475 - val_mse: 6.9324\n",
            "Epoch 254/300\n",
            "10/10 [==============================] - 0s 3ms/step - loss: 1.9091 - mae: 1.9091 - mse: 8.9462 - val_loss: 1.6458 - val_mae: 1.6458 - val_mse: 6.9253\n",
            "Epoch 255/300\n",
            "10/10 [==============================] - 0s 5ms/step - loss: 1.9091 - mae: 1.9091 - mse: 8.9420 - val_loss: 1.6456 - val_mae: 1.6456 - val_mse: 6.9240\n",
            "Epoch 256/300\n",
            "10/10 [==============================] - 0s 4ms/step - loss: 1.9092 - mae: 1.9092 - mse: 8.9437 - val_loss: 1.6462 - val_mae: 1.6462 - val_mse: 6.9261\n",
            "Epoch 257/300\n",
            "10/10 [==============================] - 0s 4ms/step - loss: 1.9091 - mae: 1.9091 - mse: 8.9421 - val_loss: 1.6457 - val_mae: 1.6457 - val_mse: 6.9237\n",
            "Epoch 258/300\n",
            "10/10 [==============================] - 0s 3ms/step - loss: 1.9090 - mae: 1.9090 - mse: 8.9434 - val_loss: 1.6466 - val_mae: 1.6466 - val_mse: 6.9270\n",
            "Epoch 259/300\n",
            "10/10 [==============================] - 0s 4ms/step - loss: 1.9089 - mae: 1.9089 - mse: 8.9432 - val_loss: 1.6459 - val_mae: 1.6459 - val_mse: 6.9236\n",
            "Epoch 260/300\n",
            "10/10 [==============================] - 0s 4ms/step - loss: 1.9089 - mae: 1.9089 - mse: 8.9440 - val_loss: 1.6467 - val_mae: 1.6467 - val_mse: 6.9266\n",
            "Epoch 261/300\n",
            "10/10 [==============================] - 0s 3ms/step - loss: 1.9088 - mae: 1.9088 - mse: 8.9432 - val_loss: 1.6460 - val_mae: 1.6460 - val_mse: 6.9231\n",
            "Epoch 262/300\n",
            "10/10 [==============================] - 0s 3ms/step - loss: 1.9088 - mae: 1.9088 - mse: 8.9412 - val_loss: 1.6461 - val_mae: 1.6461 - val_mse: 6.9233\n",
            "Epoch 263/300\n",
            "10/10 [==============================] - 0s 5ms/step - loss: 1.9087 - mae: 1.9087 - mse: 8.9411 - val_loss: 1.6463 - val_mae: 1.6463 - val_mse: 6.9238\n",
            "Epoch 264/300\n",
            "10/10 [==============================] - 0s 4ms/step - loss: 1.9087 - mae: 1.9087 - mse: 8.9408 - val_loss: 1.6460 - val_mae: 1.6460 - val_mse: 6.9221\n",
            "Epoch 265/300\n",
            "10/10 [==============================] - 0s 4ms/step - loss: 1.9087 - mae: 1.9087 - mse: 8.9389 - val_loss: 1.6460 - val_mae: 1.6460 - val_mse: 6.9215\n",
            "Epoch 266/300\n",
            "10/10 [==============================] - 0s 3ms/step - loss: 1.9086 - mae: 1.9086 - mse: 8.9397 - val_loss: 1.6460 - val_mae: 1.6460 - val_mse: 6.9213\n",
            "Epoch 267/300\n",
            "10/10 [==============================] - 0s 4ms/step - loss: 1.9086 - mae: 1.9086 - mse: 8.9398 - val_loss: 1.6461 - val_mae: 1.6461 - val_mse: 6.9214\n",
            "Epoch 268/300\n",
            "10/10 [==============================] - 0s 3ms/step - loss: 1.9088 - mae: 1.9088 - mse: 8.9374 - val_loss: 1.6458 - val_mae: 1.6458 - val_mse: 6.9194\n",
            "Epoch 269/300\n",
            "10/10 [==============================] - 0s 3ms/step - loss: 1.9085 - mae: 1.9085 - mse: 8.9382 - val_loss: 1.6463 - val_mae: 1.6463 - val_mse: 6.9210\n",
            "Epoch 270/300\n",
            "10/10 [==============================] - 0s 3ms/step - loss: 1.9086 - mae: 1.9086 - mse: 8.9395 - val_loss: 1.6460 - val_mae: 1.6460 - val_mse: 6.9195\n",
            "Epoch 271/300\n",
            "10/10 [==============================] - 0s 3ms/step - loss: 1.9086 - mae: 1.9086 - mse: 8.9358 - val_loss: 1.6452 - val_mae: 1.6452 - val_mse: 6.9159\n",
            "Epoch 272/300\n",
            "10/10 [==============================] - 0s 3ms/step - loss: 1.9085 - mae: 1.9085 - mse: 8.9336 - val_loss: 1.6451 - val_mae: 1.6451 - val_mse: 6.9151\n",
            "Epoch 273/300\n",
            "10/10 [==============================] - 0s 3ms/step - loss: 1.9086 - mae: 1.9086 - mse: 8.9383 - val_loss: 1.6469 - val_mae: 1.6469 - val_mse: 6.9219\n",
            "Epoch 274/300\n",
            "10/10 [==============================] - 0s 4ms/step - loss: 1.9086 - mae: 1.9086 - mse: 8.9373 - val_loss: 1.6452 - val_mae: 1.6452 - val_mse: 6.9144\n",
            "Epoch 275/300\n",
            "10/10 [==============================] - 0s 3ms/step - loss: 1.9084 - mae: 1.9084 - mse: 8.9320 - val_loss: 1.6452 - val_mae: 1.6452 - val_mse: 6.9141\n",
            "Epoch 276/300\n",
            "10/10 [==============================] - 0s 4ms/step - loss: 1.9086 - mae: 1.9086 - mse: 8.9384 - val_loss: 1.6467 - val_mae: 1.6467 - val_mse: 6.9195\n",
            "Epoch 277/300\n",
            "10/10 [==============================] - 0s 4ms/step - loss: 1.9083 - mae: 1.9083 - mse: 8.9351 - val_loss: 1.6452 - val_mae: 1.6452 - val_mse: 6.9134\n",
            "Epoch 278/300\n",
            "10/10 [==============================] - 0s 4ms/step - loss: 1.9082 - mae: 1.9082 - mse: 8.9317 - val_loss: 1.6455 - val_mae: 1.6455 - val_mse: 6.9140\n",
            "Epoch 279/300\n",
            "10/10 [==============================] - 0s 3ms/step - loss: 1.9081 - mae: 1.9081 - mse: 8.9335 - val_loss: 1.6460 - val_mae: 1.6460 - val_mse: 6.9158\n",
            "Epoch 280/300\n",
            "10/10 [==============================] - 0s 4ms/step - loss: 1.9081 - mae: 1.9081 - mse: 8.9343 - val_loss: 1.6458 - val_mae: 1.6458 - val_mse: 6.9147\n",
            "Epoch 281/300\n",
            "10/10 [==============================] - 0s 3ms/step - loss: 1.9080 - mae: 1.9080 - mse: 8.9306 - val_loss: 1.6449 - val_mae: 1.6449 - val_mse: 6.9102\n",
            "Epoch 282/300\n",
            "10/10 [==============================] - 0s 3ms/step - loss: 1.9080 - mae: 1.9080 - mse: 8.9309 - val_loss: 1.6457 - val_mae: 1.6457 - val_mse: 6.9133\n",
            "Epoch 283/300\n",
            "10/10 [==============================] - 0s 3ms/step - loss: 1.9080 - mae: 1.9080 - mse: 8.9322 - val_loss: 1.6455 - val_mae: 1.6455 - val_mse: 6.9121\n",
            "Epoch 284/300\n",
            "10/10 [==============================] - 0s 3ms/step - loss: 1.9079 - mae: 1.9079 - mse: 8.9317 - val_loss: 1.6458 - val_mae: 1.6458 - val_mse: 6.9126\n",
            "Epoch 285/300\n",
            "10/10 [==============================] - 0s 4ms/step - loss: 1.9080 - mae: 1.9080 - mse: 8.9298 - val_loss: 1.6452 - val_mae: 1.6452 - val_mse: 6.9099\n",
            "Epoch 286/300\n",
            "10/10 [==============================] - 0s 3ms/step - loss: 1.9081 - mae: 1.9081 - mse: 8.9337 - val_loss: 1.6461 - val_mae: 1.6461 - val_mse: 6.9129\n",
            "Epoch 287/300\n",
            "10/10 [==============================] - 0s 4ms/step - loss: 1.9079 - mae: 1.9079 - mse: 8.9295 - val_loss: 1.6448 - val_mae: 1.6448 - val_mse: 6.9074\n",
            "Epoch 288/300\n",
            "10/10 [==============================] - 0s 3ms/step - loss: 1.9077 - mae: 1.9077 - mse: 8.9276 - val_loss: 1.6453 - val_mae: 1.6453 - val_mse: 6.9090\n",
            "Epoch 289/300\n",
            "10/10 [==============================] - 0s 3ms/step - loss: 1.9078 - mae: 1.9078 - mse: 8.9304 - val_loss: 1.6460 - val_mae: 1.6460 - val_mse: 6.9113\n",
            "Epoch 290/300\n",
            "10/10 [==============================] - 0s 3ms/step - loss: 1.9079 - mae: 1.9079 - mse: 8.9276 - val_loss: 1.6445 - val_mae: 1.6445 - val_mse: 6.9046\n",
            "Epoch 291/300\n",
            "10/10 [==============================] - 0s 3ms/step - loss: 1.9076 - mae: 1.9076 - mse: 8.9253 - val_loss: 1.6452 - val_mae: 1.6452 - val_mse: 6.9070\n",
            "Epoch 292/300\n",
            "10/10 [==============================] - 0s 3ms/step - loss: 1.9076 - mae: 1.9076 - mse: 8.9284 - val_loss: 1.6454 - val_mae: 1.6454 - val_mse: 6.9077\n",
            "Epoch 293/300\n",
            "10/10 [==============================] - 0s 3ms/step - loss: 1.9075 - mae: 1.9075 - mse: 8.9273 - val_loss: 1.6451 - val_mae: 1.6451 - val_mse: 6.9058\n",
            "Epoch 294/300\n",
            "10/10 [==============================] - 0s 4ms/step - loss: 1.9075 - mae: 1.9075 - mse: 8.9232 - val_loss: 1.6442 - val_mae: 1.6442 - val_mse: 6.9017\n",
            "Epoch 295/300\n",
            "10/10 [==============================] - 0s 6ms/step - loss: 1.9075 - mae: 1.9075 - mse: 8.9215 - val_loss: 1.6446 - val_mae: 1.6446 - val_mse: 6.9029\n",
            "Epoch 296/300\n",
            "10/10 [==============================] - 0s 3ms/step - loss: 1.9076 - mae: 1.9076 - mse: 8.9267 - val_loss: 1.6466 - val_mae: 1.6466 - val_mse: 6.9101\n",
            "Epoch 297/300\n",
            "10/10 [==============================] - 0s 3ms/step - loss: 1.9077 - mae: 1.9077 - mse: 8.9264 - val_loss: 1.6453 - val_mae: 1.6453 - val_mse: 6.9046\n",
            "Epoch 298/300\n",
            "10/10 [==============================] - 0s 3ms/step - loss: 1.9074 - mae: 1.9074 - mse: 8.9264 - val_loss: 1.6454 - val_mae: 1.6454 - val_mse: 6.9048\n",
            "Epoch 299/300\n",
            "10/10 [==============================] - 0s 3ms/step - loss: 1.9072 - mae: 1.9072 - mse: 8.9232 - val_loss: 1.6450 - val_mae: 1.6450 - val_mse: 6.9027\n",
            "Epoch 300/300\n",
            "10/10 [==============================] - 0s 4ms/step - loss: 1.9073 - mae: 1.9073 - mse: 8.9257 - val_loss: 1.6460 - val_mae: 1.6460 - val_mse: 6.9059\n"
          ],
          "name": "stdout"
        }
      ]
    },
    {
      "cell_type": "code",
      "metadata": {
        "id": "Rr4Qdvxf9CFp",
        "colab": {
          "base_uri": "https://localhost:8080/"
        },
        "outputId": "a8b73e12-3dd7-4184-c8d7-bc16e75a25a9"
      },
      "source": [
        "print(history)"
      ],
      "execution_count": 41,
      "outputs": [
        {
          "output_type": "stream",
          "text": [
            "<tensorflow.python.keras.callbacks.History object at 0x7f827fc7b350>\n"
          ],
          "name": "stdout"
        }
      ]
    },
    {
      "cell_type": "code",
      "metadata": {
        "id": "dpUtTkU49Iyk",
        "colab": {
          "base_uri": "https://localhost:8080/"
        },
        "outputId": "cb343f30-fa01-4fa5-977e-1a92f10f2680"
      },
      "source": [
        "model.summary()"
      ],
      "execution_count": 42,
      "outputs": [
        {
          "output_type": "stream",
          "text": [
            "Model: \"sequential\"\n",
            "_________________________________________________________________\n",
            "Layer (type)                 Output Shape              Param #   \n",
            "=================================================================\n",
            "dense (Dense)                (None, 1)                 2         \n",
            "=================================================================\n",
            "Total params: 2\n",
            "Trainable params: 2\n",
            "Non-trainable params: 0\n",
            "_________________________________________________________________\n"
          ],
          "name": "stdout"
        }
      ]
    },
    {
      "cell_type": "code",
      "metadata": {
        "id": "ka4gfaP_9Ily",
        "colab": {
          "base_uri": "https://localhost:8080/",
          "height": 1000
        },
        "outputId": "9f71f441-dd92-4618-eea4-581d5361b31e"
      },
      "source": [
        "# tempString = 'mse'\n",
        "def curvePlots(tempString):\n",
        "  plt.plot(history.history[tempString])\n",
        "  plt.plot(history.history[f'val_{tempString}'])\n",
        "  plt.xlabel('NumEpochs')\n",
        "  plt.ylabel(tempString)\n",
        "  plt.legend([tempString, f'val_{tempString}'])\n",
        "  plt.show()\n",
        "\n",
        "\n",
        "curvePlots('mse')\n",
        "curvePlots('mae')\n",
        "curvePlots('loss')"
      ],
      "execution_count": 43,
      "outputs": [
        {
          "output_type": "display_data",
          "data": {
            "image/png": "[encoded data removed]",
            "text/plain": [
              "<Figure size 576x396 with 1 Axes>"
            ]
          },
          "metadata": {
            "tags": []
          }
        },
        {
          "output_type": "display_data",
          "data": {
            "image/png": "[encoded data removed]",
            "text/plain": [
              "<Figure size 576x396 with 1 Axes>"
            ]
          },
          "metadata": {
            "tags": []
          }
        },
        {
          "output_type": "display_data",
          "data": {
            "image/png": "[encoded data removed]",
            "text/plain": [
              "<Figure size 576x396 with 1 Axes>"
            ]
          },
          "metadata": {
            "tags": []
          }
        }
      ]
    },
    {
      "cell_type": "code",
      "metadata": {
        "id": "RVEBgk0Z9IXr",
        "colab": {
          "base_uri": "https://localhost:8080/"
        },
        "outputId": "64cddd72-ab2a-4bbd-bbc7-468ff9f084e6"
      },
      "source": [
        "model.predict([1])"
      ],
      "execution_count": 44,
      "outputs": [
        {
          "output_type": "execute_result",
          "data": {
            "text/plain": [
              "array([[2.4528532]], dtype=float32)"
            ]
          },
          "metadata": {
            "tags": []
          },
          "execution_count": 44
        }
      ]
    },
    {
      "cell_type": "code",
      "metadata": {
        "id": "5wAJw-YG9RBb",
        "colab": {
          "base_uri": "https://localhost:8080/"
        },
        "outputId": "155235d8-047f-4ce2-8165-081ce5a4c05f"
      },
      "source": [
        "# testPreds = model.predict(testFeatures).flatten() #array of all prediction values\n",
        "\n",
        "#for single values\n",
        "\n",
        "print(f'Prediction for input value 1: {model.predict([1])}')\n",
        "\n",
        "\n",
        "# for a list of values\n",
        "tempListforPreds = [1,2,3,4,5]\n",
        "print(f'''\n",
        "\n",
        "input List = {tempListforPreds}\n",
        "\n",
        "\n",
        "List of Predictions:\n",
        "{model.predict(tempListforPreds)}\n",
        "\n",
        "List of Predictions (flattened out):\n",
        "{model.predict(tempListforPreds).flatten()}\n",
        "''')"
      ],
      "execution_count": 45,
      "outputs": [
        {
          "output_type": "stream",
          "text": [
            "Prediction for input value 1: [[2.4528532]]\n",
            "\n",
            "\n",
            "input List = [1, 2, 3, 4, 5]\n",
            "\n",
            "\n",
            "List of Predictions:\n",
            "[[2.4528532]\n",
            " [3.321169 ]\n",
            " [4.189484 ]\n",
            " [5.0578   ]\n",
            " [5.9261155]]\n",
            "\n",
            "List of Predictions (flattened out):\n",
            "[2.4528532 3.321169  4.189484  5.0578    5.9261155]\n",
            "\n"
          ],
          "name": "stdout"
        }
      ]
    },
    {
      "cell_type": "code",
      "metadata": {
        "id": "6OfNZmT69Q1f",
        "colab": {
          "base_uri": "https://localhost:8080/"
        },
        "outputId": "93565aa2-b744-4118-98e4-6369bff38567"
      },
      "source": [
        "print(testFeatures)"
      ],
      "execution_count": 46,
      "outputs": [
        {
          "output_type": "stream",
          "text": [
            "     G1\n",
            "9    14\n",
            "25    6\n",
            "28   11\n",
            "31   17\n",
            "32   17\n",
            "..   ..\n",
            "365  10\n",
            "367   7\n",
            "379  10\n",
            "381   7\n",
            "393  11\n",
            "\n",
            "[79 rows x 1 columns]\n"
          ],
          "name": "stdout"
        }
      ]
    },
    {
      "cell_type": "code",
      "metadata": {
        "id": "pgX-EBpG9Qnc"
      },
      "source": [
        "testPreds = model.predict(testFeatures).flatten() #array of all prediction values"
      ],
      "execution_count": 47,
      "outputs": []
    },
    {
      "cell_type": "code",
      "metadata": {
        "id": "_8TYSUVk9Qa6",
        "colab": {
          "base_uri": "https://localhost:8080/"
        },
        "outputId": "21574adb-abcd-44fb-b865-f5dd565e8d69"
      },
      "source": [
        "print(len(testPreds))\n",
        "print(testPreds)"
      ],
      "execution_count": 48,
      "outputs": [
        {
          "output_type": "stream",
          "text": [
            "79\n",
            "[13.740953   6.7944307 11.136007  16.345901  16.345901  12.004323\n",
            " 13.740953  18.082531  18.082531   8.531061  13.740953  12.872639\n",
            "  8.531061   7.662746   9.399377  12.872639  11.136007  15.477585\n",
            "  7.662746  10.267693  14.609269  12.872639  13.740953  15.477585\n",
            "  7.662746   7.662746   8.531061  10.267693  12.004323  10.267693\n",
            " 12.004323  12.872639  10.267693   6.7944307  9.399377  12.004323\n",
            "  7.662746   8.531061  13.740953   9.399377   9.399377   7.662746\n",
            " 12.004323   6.7944307 12.872639   7.662746   7.662746  11.136007\n",
            " 12.872639  16.345901  12.004323  14.609269   9.399377  12.004323\n",
            " 14.609269  12.004323  14.609269  12.004323  14.609269  11.136007\n",
            " 12.004323   8.531061  15.477585   7.662746  15.477585  11.136007\n",
            " 15.477585  12.872639   8.531061   8.531061  12.004323  17.214216\n",
            " 12.872639  15.477585  10.267693   7.662746  10.267693   7.662746\n",
            " 11.136007 ]\n"
          ],
          "name": "stdout"
        }
      ]
    },
    {
      "cell_type": "code",
      "metadata": {
        "id": "FWo6vSXA9QNI",
        "colab": {
          "base_uri": "https://localhost:8080/",
          "height": 361
        },
        "outputId": "b8b2d45f-714c-4b1f-c13a-81fc066fa82c"
      },
      "source": [
        "# prediciton plot --> how well is your model predicting across the actual labels\n",
        "\n",
        "def predPlot(labels, predictions):\n",
        "  plt.scatter(labels, predictions)\n",
        "  plt.ylabel('Predictions')\n",
        "  plt.xlabel('True Value or Labels')\n",
        "  plt.axis('equal')\n",
        "  plt.axis('square')\n",
        "  plt.xlim([0, plt.xlim()[1]])\n",
        "  plt.ylim([0, plt.ylim()[1]])\n",
        "  plt.show()\n",
        "\n",
        "predPlot(testLabels, testPreds)"
      ],
      "execution_count": 49,
      "outputs": [
        {
          "output_type": "display_data",
          "data": {
            "image/png": "[encoded data removed]",
            "text/plain": [
              "<Figure size 576x396 with 1 Axes>"
            ]
          },
          "metadata": {
            "tags": []
          }
        }
      ]
    },
    {
      "cell_type": "code",
      "metadata": {
        "id": "oQX0sEFr9bFY",
        "colab": {
          "base_uri": "https://localhost:8080/",
          "height": 361
        },
        "outputId": "428e0abb-e522-4ac1-9916-1077a71cef02"
      },
      "source": [
        "#error plot --> gaussian distribution \n",
        "\n",
        "def errorPlot(preds, labels, counts):\n",
        "  errors = preds - labels\n",
        "  plt.hist(errors, counts)\n",
        "  plt.xlabel('Error')\n",
        "  plt.ylabel('Counts')\n",
        "  plt.show()\n",
        "\n",
        "errorPlot(testPreds, testLabels, numEpochs)"
      ],
      "execution_count": 50,
      "outputs": [
        {
          "output_type": "display_data",
          "data": {
            "image/png": "[encoded data removed]",
            "text/plain": [
              "<Figure size 576x396 with 1 Axes>"
            ]
          },
          "metadata": {
            "tags": []
          }
        }
      ]
    },
    {
      "cell_type": "markdown",
      "metadata": {
        "id": "MIAvsG2k9du9"
      },
      "source": [
        "Note: \n",
        "\n",
        "\n",
        "Validation loss `val_loss` is a metric that tells you how much deviation from the actual label can you expect in the predicted label\n",
        "\n",
        "To optimize your predicitons -->\n",
        "\n",
        "- Hyperparameter tuning --> `numEpochs`, `optimizer`, `learning_rate`, lossFunctions"
      ]
    }
  ]
}