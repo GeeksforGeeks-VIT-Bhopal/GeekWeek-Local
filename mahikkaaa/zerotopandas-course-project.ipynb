{
 "cells": [
  {
   "cell_type": "markdown",
   "metadata": {},
   "source": [
    "# INTRODUCTION\n",
    "\n",
    "We'll use the Cambridge Crime 2009-2016 dataset for our analysis. You can find the raw data here: https://query.data.world/s/d4je5crtjeezijfa6j7oo5lov6ejxd\n",
    "\n",
    "There are several options for getting the dataset into Jupyter:\n",
    "\n",
    "Download the CSV manually and upload it via Jupyter's GUI                                                                       \n",
    "Use the urlretrieve function from the urllib.request to download CSV files from a raw URL directly                             \n",
    "Use a helper library e.g. opendatasets, which contains a collection of curated datasets and provides a function for directly download.                                                                                                                       \n",
    "\n",
    "As a first step, let's upload our Jupyter notebook to [Jovian.ml](https://jovian.ml)."
   ]
  },
  {
   "cell_type": "code",
   "execution_count": 1,
   "metadata": {},
   "outputs": [],
   "source": [
    "project_name = \"Course Project- Cambride Crime dataset Analysis\" "
   ]
  },
  {
   "cell_type": "code",
   "execution_count": 2,
   "metadata": {},
   "outputs": [],
   "source": [
    "!pip install jovian --upgrade -q"
   ]
  },
  {
   "cell_type": "code",
   "execution_count": 3,
   "metadata": {},
   "outputs": [],
   "source": [
    "import jovian"
   ]
  },
  {
   "cell_type": "code",
   "execution_count": 4,
   "metadata": {},
   "outputs": [
    {
     "data": {
      "application/javascript": [
       "window.require && require([\"base/js/namespace\"],function(Jupyter){Jupyter.notebook.save_checkpoint()})"
      ],
      "text/plain": [
       "<IPython.core.display.Javascript object>"
      ]
     },
     "metadata": {},
     "output_type": "display_data"
    },
    {
     "name": "stdout",
     "output_type": "stream",
     "text": [
      "[jovian] Attempting to save notebook..\n",
      "[jovian] Updating notebook \"abhijeet-chatterjee2019/course-project-cambride-crime-dataset-analysis\" on https://jovian.ml/\n",
      "[jovian] Uploading notebook..\n",
      "[jovian] Capturing environment..\n",
      "[jovian] Committed successfully! https://jovian.ml/abhijeet-chatterjee2019/course-project-cambride-crime-dataset-analysis\n"
     ]
    },
    {
     "data": {
      "text/plain": [
       "'https://jovian.ml/abhijeet-chatterjee2019/course-project-cambride-crime-dataset-analysis'"
      ]
     },
     "execution_count": 4,
     "metadata": {},
     "output_type": "execute_result"
    }
   ],
   "source": [
    "jovian.commit(project=project_name)"
   ]
  },
  {
   "cell_type": "markdown",
   "metadata": {},
   "source": [
    "## Data Preparation and Cleaning\n",
    "\n",
    "While the survey responses contain a bunch of information, we'll limit our analysis to the following areas-:\n",
    "\n",
    "Date of Reports                                                                                                                 \n",
    "Crime                                                                                                                           \n",
    "Reporting Area                                                                                                                 \n",
    "Neighborhood                                                                                                                   \n",
    "Location\n",
    "\n",
    "Selecting a subset of columns with the relevant data for our analysis."
   ]
  },
  {
   "cell_type": "code",
   "execution_count": 5,
   "metadata": {},
   "outputs": [],
   "source": [
    "import urllib.request"
   ]
  },
  {
   "cell_type": "code",
   "execution_count": 6,
   "metadata": {},
   "outputs": [],
   "source": [
    "dataset=urllib.request.urlretrieve(\"https://query.data.world/s/d4je5crtjeezijfa6j7oo5lov6ejxd\")"
   ]
  },
  {
   "cell_type": "code",
   "execution_count": 7,
   "metadata": {},
   "outputs": [],
   "source": [
    "import pandas as pd\n",
    "df = pd.read_csv('https://query.data.world/s/d4je5crtjeezijfa6j7oo5lov6ejxd')"
   ]
  },
  {
   "cell_type": "code",
   "execution_count": 8,
   "metadata": {},
   "outputs": [
    {
     "data": {
      "text/html": [
       "<div>\n",
       "<style scoped>\n",
       "    .dataframe tbody tr th:only-of-type {\n",
       "        vertical-align: middle;\n",
       "    }\n",
       "\n",
       "    .dataframe tbody tr th {\n",
       "        vertical-align: top;\n",
       "    }\n",
       "\n",
       "    .dataframe thead th {\n",
       "        text-align: right;\n",
       "    }\n",
       "</style>\n",
       "<table border=\"1\" class=\"dataframe\">\n",
       "  <thead>\n",
       "    <tr style=\"text-align: right;\">\n",
       "      <th></th>\n",
       "      <th>File Number</th>\n",
       "      <th>Date of Report</th>\n",
       "      <th>Crime Date Time</th>\n",
       "      <th>Crime</th>\n",
       "      <th>Reporting Area</th>\n",
       "      <th>Neighborhood</th>\n",
       "      <th>Location</th>\n",
       "    </tr>\n",
       "  </thead>\n",
       "  <tbody>\n",
       "    <tr>\n",
       "      <th>0</th>\n",
       "      <td>2009-00002</td>\n",
       "      <td>01/01/2009 12:39:00 AM</td>\n",
       "      <td>1/1/09 0:39</td>\n",
       "      <td>Simple Assault</td>\n",
       "      <td>504.0</td>\n",
       "      <td>Cambridgeport</td>\n",
       "      <td>400 Massachusetts Avenue, Cambridge, MA</td>\n",
       "    </tr>\n",
       "    <tr>\n",
       "      <th>1</th>\n",
       "      <td>2009-00003</td>\n",
       "      <td>01/01/2009 01:34:00 AM</td>\n",
       "      <td>1/1/09 1:34</td>\n",
       "      <td>Simple Assault</td>\n",
       "      <td>610.0</td>\n",
       "      <td>Mid-Cambridge</td>\n",
       "      <td>200 HAMPSHIRE STREET, Cambridge, MA</td>\n",
       "    </tr>\n",
       "    <tr>\n",
       "      <th>2</th>\n",
       "      <td>2009-00004</td>\n",
       "      <td>01/01/2009 01:43:00 AM</td>\n",
       "      <td>01/01/2009 02:20 - 02:35</td>\n",
       "      <td>Aggravated Assault</td>\n",
       "      <td>708.0</td>\n",
       "      <td>Riverside</td>\n",
       "      <td>DUNSTER STREET &amp; MOUNT AUBURN STREET, Cambridg...</td>\n",
       "    </tr>\n",
       "    <tr>\n",
       "      <th>3</th>\n",
       "      <td>2009-00005</td>\n",
       "      <td>01/01/2009 02:27:00 AM</td>\n",
       "      <td>01/01/2009 02:20 - 02:45</td>\n",
       "      <td>Simple Assault</td>\n",
       "      <td>105.0</td>\n",
       "      <td>East Cambridge</td>\n",
       "      <td>100 SCIARAPPA STREET, Cambridge, MA</td>\n",
       "    </tr>\n",
       "    <tr>\n",
       "      <th>4</th>\n",
       "      <td>2009-00006</td>\n",
       "      <td>01/01/2009 02:34:00 AM</td>\n",
       "      <td>01/01/2009 02:15 - 02:35</td>\n",
       "      <td>Disorderly</td>\n",
       "      <td>708.0</td>\n",
       "      <td>Riverside</td>\n",
       "      <td>1200 Massachusetts Avenue, Cambridge, MA</td>\n",
       "    </tr>\n",
       "    <tr>\n",
       "      <th>...</th>\n",
       "      <td>...</td>\n",
       "      <td>...</td>\n",
       "      <td>...</td>\n",
       "      <td>...</td>\n",
       "      <td>...</td>\n",
       "      <td>...</td>\n",
       "      <td>...</td>\n",
       "    </tr>\n",
       "    <tr>\n",
       "      <th>56009</th>\n",
       "      <td>2016-07187</td>\n",
       "      <td>09/30/2016 04:05:00 PM</td>\n",
       "      <td>09/28/2016 17:00 - 18:00</td>\n",
       "      <td>Larceny from Residence</td>\n",
       "      <td>510.0</td>\n",
       "      <td>Cambridgeport</td>\n",
       "      <td>0 FAIRMONT AVE, Cambridge, MA</td>\n",
       "    </tr>\n",
       "    <tr>\n",
       "      <th>56010</th>\n",
       "      <td>2016-07189</td>\n",
       "      <td>09/30/2016 05:38:00 PM</td>\n",
       "      <td>09/30/2016 16:30 - 17:38</td>\n",
       "      <td>Hit and Run</td>\n",
       "      <td>1105.0</td>\n",
       "      <td>North Cambridge</td>\n",
       "      <td>2000 MASSACHUSETTS AVE, Cambridge, MA</td>\n",
       "    </tr>\n",
       "    <tr>\n",
       "      <th>56011</th>\n",
       "      <td>2016-07192</td>\n",
       "      <td>09/30/2016 06:52:00 PM</td>\n",
       "      <td>09/16/2016 18:52 - 09/30/2016 18:52</td>\n",
       "      <td>Harassment</td>\n",
       "      <td>702.0</td>\n",
       "      <td>Riverside</td>\n",
       "      <td>0 Soden St, Cambridge, MA</td>\n",
       "    </tr>\n",
       "    <tr>\n",
       "      <th>56012</th>\n",
       "      <td>2016-07194</td>\n",
       "      <td>09/30/2016 07:52:00 PM</td>\n",
       "      <td>09/30/2016 19:51</td>\n",
       "      <td>Hit and Run</td>\n",
       "      <td>1002.0</td>\n",
       "      <td>West Cambridge</td>\n",
       "      <td>University Rd &amp; Mount Auburn St, Cambridge, MA</td>\n",
       "    </tr>\n",
       "    <tr>\n",
       "      <th>56013</th>\n",
       "      <td>2016-07195</td>\n",
       "      <td>09/30/2016 09:44:00 PM</td>\n",
       "      <td>09/30/2016 21:43</td>\n",
       "      <td>Simple Assault</td>\n",
       "      <td>1002.0</td>\n",
       "      <td>West Cambridge</td>\n",
       "      <td>BRATTLE ST &amp; JFK ST, Cambridge, MA</td>\n",
       "    </tr>\n",
       "  </tbody>\n",
       "</table>\n",
       "<p>56014 rows × 7 columns</p>\n",
       "</div>"
      ],
      "text/plain": [
       "      File Number          Date of Report  \\\n",
       "0      2009-00002  01/01/2009 12:39:00 AM   \n",
       "1      2009-00003  01/01/2009 01:34:00 AM   \n",
       "2      2009-00004  01/01/2009 01:43:00 AM   \n",
       "3      2009-00005  01/01/2009 02:27:00 AM   \n",
       "4      2009-00006  01/01/2009 02:34:00 AM   \n",
       "...           ...                     ...   \n",
       "56009  2016-07187  09/30/2016 04:05:00 PM   \n",
       "56010  2016-07189  09/30/2016 05:38:00 PM   \n",
       "56011  2016-07192  09/30/2016 06:52:00 PM   \n",
       "56012  2016-07194  09/30/2016 07:52:00 PM   \n",
       "56013  2016-07195  09/30/2016 09:44:00 PM   \n",
       "\n",
       "                           Crime Date Time                   Crime  \\\n",
       "0                              1/1/09 0:39          Simple Assault   \n",
       "1                              1/1/09 1:34          Simple Assault   \n",
       "2                 01/01/2009 02:20 - 02:35      Aggravated Assault   \n",
       "3                 01/01/2009 02:20 - 02:45          Simple Assault   \n",
       "4                 01/01/2009 02:15 - 02:35              Disorderly   \n",
       "...                                    ...                     ...   \n",
       "56009             09/28/2016 17:00 - 18:00  Larceny from Residence   \n",
       "56010             09/30/2016 16:30 - 17:38             Hit and Run   \n",
       "56011  09/16/2016 18:52 - 09/30/2016 18:52              Harassment   \n",
       "56012                     09/30/2016 19:51             Hit and Run   \n",
       "56013                     09/30/2016 21:43          Simple Assault   \n",
       "\n",
       "       Reporting Area     Neighborhood  \\\n",
       "0               504.0    Cambridgeport   \n",
       "1               610.0    Mid-Cambridge   \n",
       "2               708.0        Riverside   \n",
       "3               105.0   East Cambridge   \n",
       "4               708.0        Riverside   \n",
       "...               ...              ...   \n",
       "56009           510.0    Cambridgeport   \n",
       "56010          1105.0  North Cambridge   \n",
       "56011           702.0        Riverside   \n",
       "56012          1002.0   West Cambridge   \n",
       "56013          1002.0   West Cambridge   \n",
       "\n",
       "                                                Location  \n",
       "0                400 Massachusetts Avenue, Cambridge, MA  \n",
       "1                    200 HAMPSHIRE STREET, Cambridge, MA  \n",
       "2      DUNSTER STREET & MOUNT AUBURN STREET, Cambridg...  \n",
       "3                    100 SCIARAPPA STREET, Cambridge, MA  \n",
       "4               1200 Massachusetts Avenue, Cambridge, MA  \n",
       "...                                                  ...  \n",
       "56009                      0 FAIRMONT AVE, Cambridge, MA  \n",
       "56010              2000 MASSACHUSETTS AVE, Cambridge, MA  \n",
       "56011                          0 Soden St, Cambridge, MA  \n",
       "56012     University Rd & Mount Auburn St, Cambridge, MA  \n",
       "56013                 BRATTLE ST & JFK ST, Cambridge, MA  \n",
       "\n",
       "[56014 rows x 7 columns]"
      ]
     },
     "execution_count": 8,
     "metadata": {},
     "output_type": "execute_result"
    }
   ],
   "source": [
    "df"
   ]
  },
  {
   "cell_type": "code",
   "execution_count": 9,
   "metadata": {},
   "outputs": [
    {
     "data": {
      "text/plain": [
       "Index(['File Number', 'Date of Report', 'Crime Date Time', 'Crime',\n",
       "       'Reporting Area', 'Neighborhood', 'Location'],\n",
       "      dtype='object')"
      ]
     },
     "execution_count": 9,
     "metadata": {},
     "output_type": "execute_result"
    }
   ],
   "source": [
    "df.columns"
   ]
  },
  {
   "cell_type": "code",
   "execution_count": 10,
   "metadata": {},
   "outputs": [
    {
     "data": {
      "text/html": [
       "<div>\n",
       "<style scoped>\n",
       "    .dataframe tbody tr th:only-of-type {\n",
       "        vertical-align: middle;\n",
       "    }\n",
       "\n",
       "    .dataframe tbody tr th {\n",
       "        vertical-align: top;\n",
       "    }\n",
       "\n",
       "    .dataframe thead th {\n",
       "        text-align: right;\n",
       "    }\n",
       "</style>\n",
       "<table border=\"1\" class=\"dataframe\">\n",
       "  <thead>\n",
       "    <tr style=\"text-align: right;\">\n",
       "      <th></th>\n",
       "      <th>File Number</th>\n",
       "      <th>Date of Report</th>\n",
       "      <th>Crime Date Time</th>\n",
       "      <th>Crime</th>\n",
       "      <th>Reporting Area</th>\n",
       "      <th>Neighborhood</th>\n",
       "      <th>Location</th>\n",
       "    </tr>\n",
       "  </thead>\n",
       "  <tbody>\n",
       "    <tr>\n",
       "      <th>11863</th>\n",
       "      <td>2010-05832</td>\n",
       "      <td>08/03/2010 04:37:00 PM</td>\n",
       "      <td>08/01/2010 20:47 - 08/02/2010 07:47</td>\n",
       "      <td>Mal. Dest. Property</td>\n",
       "      <td>903.0</td>\n",
       "      <td>Peabody</td>\n",
       "      <td>0 LINNAEAN STREET, Cambridge, MA</td>\n",
       "    </tr>\n",
       "    <tr>\n",
       "      <th>4653</th>\n",
       "      <td>2009-05991</td>\n",
       "      <td>08/16/2009 08:50:00 PM</td>\n",
       "      <td>08/16/2009 20:30 - 20:45</td>\n",
       "      <td>Mal. Dest. Property</td>\n",
       "      <td>510.0</td>\n",
       "      <td>Cambridgeport</td>\n",
       "      <td>300 RIVER STREET, Cambridge, MA</td>\n",
       "    </tr>\n",
       "    <tr>\n",
       "      <th>6724</th>\n",
       "      <td>2009-08623</td>\n",
       "      <td>11/18/2009 05:34:00 PM</td>\n",
       "      <td>11/18/2009 17:30 - 17:34</td>\n",
       "      <td>Simple Assault</td>\n",
       "      <td>501.0</td>\n",
       "      <td>Cambridgeport</td>\n",
       "      <td>600 Massachusetts Avenue, Cambridge, MA</td>\n",
       "    </tr>\n",
       "    <tr>\n",
       "      <th>8243</th>\n",
       "      <td>2010-00957</td>\n",
       "      <td>02/10/2010 08:37:00 PM</td>\n",
       "      <td>02/10/2010 19:00 - 20:30</td>\n",
       "      <td>Hit and Run</td>\n",
       "      <td>609.0</td>\n",
       "      <td>Mid-Cambridge</td>\n",
       "      <td>0 INMAN STREET, Cambridge, MA</td>\n",
       "    </tr>\n",
       "    <tr>\n",
       "      <th>39808</th>\n",
       "      <td>2014-04448</td>\n",
       "      <td>06/24/2014 09:05:00 PM</td>\n",
       "      <td>06/24/2014 21:04</td>\n",
       "      <td>Shoplifting</td>\n",
       "      <td>102.0</td>\n",
       "      <td>East Cambridge</td>\n",
       "      <td>100 CAMBRIDGESIDE PL, Cambridge, MA</td>\n",
       "    </tr>\n",
       "    <tr>\n",
       "      <th>15677</th>\n",
       "      <td>2011-00861</td>\n",
       "      <td>02/05/2011 03:38:00 PM</td>\n",
       "      <td>01/30/2011 17:00 - 23:00</td>\n",
       "      <td>Forgery</td>\n",
       "      <td>501.0</td>\n",
       "      <td>Cambridgeport</td>\n",
       "      <td>600 MASSACHUSETTS Avenue, Cambridge, MA</td>\n",
       "    </tr>\n",
       "    <tr>\n",
       "      <th>35541</th>\n",
       "      <td>2013-08545</td>\n",
       "      <td>10/27/2013 02:32:00 PM</td>\n",
       "      <td>10/27/13 14:31</td>\n",
       "      <td>Auto Theft</td>\n",
       "      <td>1204.0</td>\n",
       "      <td>Highlands</td>\n",
       "      <td>200 Alewife Brook Pky, Cambridge, MA</td>\n",
       "    </tr>\n",
       "    <tr>\n",
       "      <th>23826</th>\n",
       "      <td>2012-01821</td>\n",
       "      <td>03/11/2012 06:59:00 PM</td>\n",
       "      <td>3/11/12 18:58</td>\n",
       "      <td>Drugs</td>\n",
       "      <td>102.0</td>\n",
       "      <td>East Cambridge</td>\n",
       "      <td>100 CAMBRIDGESIDE PLACE, Cambridge, MA</td>\n",
       "    </tr>\n",
       "    <tr>\n",
       "      <th>46828</th>\n",
       "      <td>2015-04046</td>\n",
       "      <td>06/08/2015 05:35:00 PM</td>\n",
       "      <td>06/08/2015 08:30 - 17:34</td>\n",
       "      <td>Housebreak</td>\n",
       "      <td>403.0</td>\n",
       "      <td>Area 4</td>\n",
       "      <td>100 HARVARD ST, Cambridge, MA</td>\n",
       "    </tr>\n",
       "    <tr>\n",
       "      <th>33844</th>\n",
       "      <td>2013-06135</td>\n",
       "      <td>08/11/2013 12:17:00 AM</td>\n",
       "      <td>08/10/2013 22:30 - 08/11/2013 00:17</td>\n",
       "      <td>Missing Person</td>\n",
       "      <td>707.0</td>\n",
       "      <td>Riverside</td>\n",
       "      <td>0 Mount Auburn STREET, Cambridge, MA</td>\n",
       "    </tr>\n",
       "  </tbody>\n",
       "</table>\n",
       "</div>"
      ],
      "text/plain": [
       "      File Number          Date of Report  \\\n",
       "11863  2010-05832  08/03/2010 04:37:00 PM   \n",
       "4653   2009-05991  08/16/2009 08:50:00 PM   \n",
       "6724   2009-08623  11/18/2009 05:34:00 PM   \n",
       "8243   2010-00957  02/10/2010 08:37:00 PM   \n",
       "39808  2014-04448  06/24/2014 09:05:00 PM   \n",
       "15677  2011-00861  02/05/2011 03:38:00 PM   \n",
       "35541  2013-08545  10/27/2013 02:32:00 PM   \n",
       "23826  2012-01821  03/11/2012 06:59:00 PM   \n",
       "46828  2015-04046  06/08/2015 05:35:00 PM   \n",
       "33844  2013-06135  08/11/2013 12:17:00 AM   \n",
       "\n",
       "                           Crime Date Time                Crime  \\\n",
       "11863  08/01/2010 20:47 - 08/02/2010 07:47  Mal. Dest. Property   \n",
       "4653              08/16/2009 20:30 - 20:45  Mal. Dest. Property   \n",
       "6724              11/18/2009 17:30 - 17:34       Simple Assault   \n",
       "8243              02/10/2010 19:00 - 20:30          Hit and Run   \n",
       "39808                     06/24/2014 21:04          Shoplifting   \n",
       "15677             01/30/2011 17:00 - 23:00              Forgery   \n",
       "35541                       10/27/13 14:31           Auto Theft   \n",
       "23826                        3/11/12 18:58                Drugs   \n",
       "46828             06/08/2015 08:30 - 17:34           Housebreak   \n",
       "33844  08/10/2013 22:30 - 08/11/2013 00:17       Missing Person   \n",
       "\n",
       "       Reporting Area    Neighborhood                                 Location  \n",
       "11863           903.0         Peabody         0 LINNAEAN STREET, Cambridge, MA  \n",
       "4653            510.0   Cambridgeport          300 RIVER STREET, Cambridge, MA  \n",
       "6724            501.0   Cambridgeport  600 Massachusetts Avenue, Cambridge, MA  \n",
       "8243            609.0   Mid-Cambridge            0 INMAN STREET, Cambridge, MA  \n",
       "39808           102.0  East Cambridge      100 CAMBRIDGESIDE PL, Cambridge, MA  \n",
       "15677           501.0   Cambridgeport  600 MASSACHUSETTS Avenue, Cambridge, MA  \n",
       "35541          1204.0       Highlands     200 Alewife Brook Pky, Cambridge, MA  \n",
       "23826           102.0  East Cambridge   100 CAMBRIDGESIDE PLACE, Cambridge, MA  \n",
       "46828           403.0          Area 4            100 HARVARD ST, Cambridge, MA  \n",
       "33844           707.0       Riverside     0 Mount Auburn STREET, Cambridge, MA  "
      ]
     },
     "execution_count": 10,
     "metadata": {},
     "output_type": "execute_result"
    }
   ],
   "source": [
    "df.sample(10)"
   ]
  },
  {
   "cell_type": "code",
   "execution_count": 11,
   "metadata": {},
   "outputs": [
    {
     "data": {
      "text/plain": [
       "(56014, 7)"
      ]
     },
     "execution_count": 11,
     "metadata": {},
     "output_type": "execute_result"
    }
   ],
   "source": [
    "df.shape"
   ]
  },
  {
   "cell_type": "code",
   "execution_count": 12,
   "metadata": {},
   "outputs": [
    {
     "name": "stdout",
     "output_type": "stream",
     "text": [
      "<class 'pandas.core.frame.DataFrame'>\n",
      "RangeIndex: 56014 entries, 0 to 56013\n",
      "Data columns (total 7 columns):\n",
      " #   Column           Non-Null Count  Dtype  \n",
      "---  ------           --------------  -----  \n",
      " 0   File Number      56014 non-null  object \n",
      " 1   Date of Report   56014 non-null  object \n",
      " 2   Crime Date Time  56014 non-null  object \n",
      " 3   Crime            56014 non-null  object \n",
      " 4   Reporting Area   56012 non-null  float64\n",
      " 5   Neighborhood     56012 non-null  object \n",
      " 6   Location         55931 non-null  object \n",
      "dtypes: float64(1), object(6)\n",
      "memory usage: 3.0+ MB\n"
     ]
    }
   ],
   "source": [
    "df.info()"
   ]
  },
  {
   "cell_type": "markdown",
   "metadata": {},
   "source": [
    "Most columns have the data type object, either because they contain values of different types. It appears that Loations column contains some empty values, since the Non-Null count for every column is lower than the total number of rows (56014).We'll need to deal with empty values and manually adjust the data type for each column on a case-by-case basis."
   ]
  },
  {
   "cell_type": "code",
   "execution_count": 13,
   "metadata": {},
   "outputs": [],
   "source": [
    "for location in df.Location:\n",
    "    if location==\"0\":\n",
    "        location=\"Not Reported\""
   ]
  },
  {
   "cell_type": "code",
   "execution_count": 14,
   "metadata": {
    "scrolled": true
   },
   "outputs": [
    {
     "data": {
      "text/plain": [
       "0                  400 Massachusetts Avenue, Cambridge, MA\n",
       "1                      200 HAMPSHIRE STREET, Cambridge, MA\n",
       "2        DUNSTER STREET & MOUNT AUBURN STREET, Cambridg...\n",
       "3                      100 SCIARAPPA STREET, Cambridge, MA\n",
       "4                 1200 Massachusetts Avenue, Cambridge, MA\n",
       "                               ...                        \n",
       "56009                        0 FAIRMONT AVE, Cambridge, MA\n",
       "56010                2000 MASSACHUSETTS AVE, Cambridge, MA\n",
       "56011                            0 Soden St, Cambridge, MA\n",
       "56012       University Rd & Mount Auburn St, Cambridge, MA\n",
       "56013                   BRATTLE ST & JFK ST, Cambridge, MA\n",
       "Name: Location, Length: 56014, dtype: object"
      ]
     },
     "execution_count": 14,
     "metadata": {},
     "output_type": "execute_result"
    }
   ],
   "source": [
    "df.Location"
   ]
  },
  {
   "cell_type": "markdown",
   "metadata": {},
   "source": [
    "Let's extract a copy of the data from these columns into a new data frame survey_df, which we can continue to modify further without affecting the original data frame."
   ]
  },
  {
   "cell_type": "code",
   "execution_count": 15,
   "metadata": {},
   "outputs": [
    {
     "data": {
      "text/plain": [
       "5"
      ]
     },
     "execution_count": 15,
     "metadata": {},
     "output_type": "execute_result"
    }
   ],
   "source": [
    "selected_columns=[\"Date of Report\",\"Crime\",\"Reporting Area\",\"Neighborhood\",\"Location\"]\n",
    "len(selected_columns)"
   ]
  },
  {
   "cell_type": "code",
   "execution_count": 16,
   "metadata": {},
   "outputs": [
    {
     "data": {
      "text/plain": [
       "(56014, 5)"
      ]
     },
     "execution_count": 16,
     "metadata": {},
     "output_type": "execute_result"
    }
   ],
   "source": [
    "survey_df = df[selected_columns].copy()\n",
    "for location in survey_df.Location:\n",
    "    if location==\"0\":\n",
    "        location=\"Not Reported\"\n",
    "survey_df.shape"
   ]
  },
  {
   "cell_type": "code",
   "execution_count": 17,
   "metadata": {},
   "outputs": [
    {
     "name": "stdout",
     "output_type": "stream",
     "text": [
      "<class 'pandas.core.frame.DataFrame'>\n",
      "RangeIndex: 56014 entries, 0 to 56013\n",
      "Data columns (total 5 columns):\n",
      " #   Column          Non-Null Count  Dtype  \n",
      "---  ------          --------------  -----  \n",
      " 0   Date of Report  56014 non-null  object \n",
      " 1   Crime           56014 non-null  object \n",
      " 2   Reporting Area  56012 non-null  float64\n",
      " 3   Neighborhood    56012 non-null  object \n",
      " 4   Location        55931 non-null  object \n",
      "dtypes: float64(1), object(4)\n",
      "memory usage: 2.1+ MB\n"
     ]
    }
   ],
   "source": [
    "survey_df.info()"
   ]
  },
  {
   "cell_type": "code",
   "execution_count": 18,
   "metadata": {},
   "outputs": [
    {
     "data": {
      "text/html": [
       "<div>\n",
       "<style scoped>\n",
       "    .dataframe tbody tr th:only-of-type {\n",
       "        vertical-align: middle;\n",
       "    }\n",
       "\n",
       "    .dataframe tbody tr th {\n",
       "        vertical-align: top;\n",
       "    }\n",
       "\n",
       "    .dataframe thead th {\n",
       "        text-align: right;\n",
       "    }\n",
       "</style>\n",
       "<table border=\"1\" class=\"dataframe\">\n",
       "  <thead>\n",
       "    <tr style=\"text-align: right;\">\n",
       "      <th></th>\n",
       "      <th>Date of Report</th>\n",
       "      <th>Crime</th>\n",
       "      <th>Reporting Area</th>\n",
       "      <th>Neighborhood</th>\n",
       "      <th>Location</th>\n",
       "    </tr>\n",
       "  </thead>\n",
       "  <tbody>\n",
       "    <tr>\n",
       "      <th>0</th>\n",
       "      <td>01/01/2009 12:39:00 AM</td>\n",
       "      <td>Simple Assault</td>\n",
       "      <td>504.0</td>\n",
       "      <td>Cambridgeport</td>\n",
       "      <td>400 Massachusetts Avenue, Cambridge, MA</td>\n",
       "    </tr>\n",
       "    <tr>\n",
       "      <th>1</th>\n",
       "      <td>01/01/2009 01:34:00 AM</td>\n",
       "      <td>Simple Assault</td>\n",
       "      <td>610.0</td>\n",
       "      <td>Mid-Cambridge</td>\n",
       "      <td>200 HAMPSHIRE STREET, Cambridge, MA</td>\n",
       "    </tr>\n",
       "    <tr>\n",
       "      <th>2</th>\n",
       "      <td>01/01/2009 01:43:00 AM</td>\n",
       "      <td>Aggravated Assault</td>\n",
       "      <td>708.0</td>\n",
       "      <td>Riverside</td>\n",
       "      <td>DUNSTER STREET &amp; MOUNT AUBURN STREET, Cambridg...</td>\n",
       "    </tr>\n",
       "    <tr>\n",
       "      <th>3</th>\n",
       "      <td>01/01/2009 02:27:00 AM</td>\n",
       "      <td>Simple Assault</td>\n",
       "      <td>105.0</td>\n",
       "      <td>East Cambridge</td>\n",
       "      <td>100 SCIARAPPA STREET, Cambridge, MA</td>\n",
       "    </tr>\n",
       "    <tr>\n",
       "      <th>4</th>\n",
       "      <td>01/01/2009 02:34:00 AM</td>\n",
       "      <td>Disorderly</td>\n",
       "      <td>708.0</td>\n",
       "      <td>Riverside</td>\n",
       "      <td>1200 Massachusetts Avenue, Cambridge, MA</td>\n",
       "    </tr>\n",
       "    <tr>\n",
       "      <th>...</th>\n",
       "      <td>...</td>\n",
       "      <td>...</td>\n",
       "      <td>...</td>\n",
       "      <td>...</td>\n",
       "      <td>...</td>\n",
       "    </tr>\n",
       "    <tr>\n",
       "      <th>56009</th>\n",
       "      <td>09/30/2016 04:05:00 PM</td>\n",
       "      <td>Larceny from Residence</td>\n",
       "      <td>510.0</td>\n",
       "      <td>Cambridgeport</td>\n",
       "      <td>0 FAIRMONT AVE, Cambridge, MA</td>\n",
       "    </tr>\n",
       "    <tr>\n",
       "      <th>56010</th>\n",
       "      <td>09/30/2016 05:38:00 PM</td>\n",
       "      <td>Hit and Run</td>\n",
       "      <td>1105.0</td>\n",
       "      <td>North Cambridge</td>\n",
       "      <td>2000 MASSACHUSETTS AVE, Cambridge, MA</td>\n",
       "    </tr>\n",
       "    <tr>\n",
       "      <th>56011</th>\n",
       "      <td>09/30/2016 06:52:00 PM</td>\n",
       "      <td>Harassment</td>\n",
       "      <td>702.0</td>\n",
       "      <td>Riverside</td>\n",
       "      <td>0 Soden St, Cambridge, MA</td>\n",
       "    </tr>\n",
       "    <tr>\n",
       "      <th>56012</th>\n",
       "      <td>09/30/2016 07:52:00 PM</td>\n",
       "      <td>Hit and Run</td>\n",
       "      <td>1002.0</td>\n",
       "      <td>West Cambridge</td>\n",
       "      <td>University Rd &amp; Mount Auburn St, Cambridge, MA</td>\n",
       "    </tr>\n",
       "    <tr>\n",
       "      <th>56013</th>\n",
       "      <td>09/30/2016 09:44:00 PM</td>\n",
       "      <td>Simple Assault</td>\n",
       "      <td>1002.0</td>\n",
       "      <td>West Cambridge</td>\n",
       "      <td>BRATTLE ST &amp; JFK ST, Cambridge, MA</td>\n",
       "    </tr>\n",
       "  </tbody>\n",
       "</table>\n",
       "<p>56014 rows × 5 columns</p>\n",
       "</div>"
      ],
      "text/plain": [
       "               Date of Report                   Crime  Reporting Area  \\\n",
       "0      01/01/2009 12:39:00 AM          Simple Assault           504.0   \n",
       "1      01/01/2009 01:34:00 AM          Simple Assault           610.0   \n",
       "2      01/01/2009 01:43:00 AM      Aggravated Assault           708.0   \n",
       "3      01/01/2009 02:27:00 AM          Simple Assault           105.0   \n",
       "4      01/01/2009 02:34:00 AM              Disorderly           708.0   \n",
       "...                       ...                     ...             ...   \n",
       "56009  09/30/2016 04:05:00 PM  Larceny from Residence           510.0   \n",
       "56010  09/30/2016 05:38:00 PM             Hit and Run          1105.0   \n",
       "56011  09/30/2016 06:52:00 PM              Harassment           702.0   \n",
       "56012  09/30/2016 07:52:00 PM             Hit and Run          1002.0   \n",
       "56013  09/30/2016 09:44:00 PM          Simple Assault          1002.0   \n",
       "\n",
       "          Neighborhood                                           Location  \n",
       "0        Cambridgeport            400 Massachusetts Avenue, Cambridge, MA  \n",
       "1        Mid-Cambridge                200 HAMPSHIRE STREET, Cambridge, MA  \n",
       "2            Riverside  DUNSTER STREET & MOUNT AUBURN STREET, Cambridg...  \n",
       "3       East Cambridge                100 SCIARAPPA STREET, Cambridge, MA  \n",
       "4            Riverside           1200 Massachusetts Avenue, Cambridge, MA  \n",
       "...                ...                                                ...  \n",
       "56009    Cambridgeport                      0 FAIRMONT AVE, Cambridge, MA  \n",
       "56010  North Cambridge              2000 MASSACHUSETTS AVE, Cambridge, MA  \n",
       "56011        Riverside                          0 Soden St, Cambridge, MA  \n",
       "56012   West Cambridge     University Rd & Mount Auburn St, Cambridge, MA  \n",
       "56013   West Cambridge                 BRATTLE ST & JFK ST, Cambridge, MA  \n",
       "\n",
       "[56014 rows x 5 columns]"
      ]
     },
     "execution_count": 18,
     "metadata": {},
     "output_type": "execute_result"
    }
   ],
   "source": [
    "survey_df"
   ]
  },
  {
   "cell_type": "code",
   "execution_count": 19,
   "metadata": {},
   "outputs": [],
   "source": [
    "import jovian"
   ]
  },
  {
   "cell_type": "code",
   "execution_count": 20,
   "metadata": {},
   "outputs": [
    {
     "data": {
      "application/javascript": [
       "window.require && require([\"base/js/namespace\"],function(Jupyter){Jupyter.notebook.save_checkpoint()})"
      ],
      "text/plain": [
       "<IPython.core.display.Javascript object>"
      ]
     },
     "metadata": {},
     "output_type": "display_data"
    },
    {
     "name": "stdout",
     "output_type": "stream",
     "text": [
      "[jovian] Attempting to save notebook..\n",
      "[jovian] Updating notebook \"abhijeet-chatterjee2019/course-project-cambride-crime-dataset-analysis\" on https://jovian.ml/\n",
      "[jovian] Uploading notebook..\n",
      "[jovian] Capturing environment..\n",
      "[jovian] Committed successfully! https://jovian.ml/abhijeet-chatterjee2019/course-project-cambride-crime-dataset-analysis\n"
     ]
    },
    {
     "data": {
      "text/plain": [
       "'https://jovian.ml/abhijeet-chatterjee2019/course-project-cambride-crime-dataset-analysis'"
      ]
     },
     "execution_count": 20,
     "metadata": {},
     "output_type": "execute_result"
    }
   ],
   "source": [
    "jovian.commit()"
   ]
  },
  {
   "cell_type": "markdown",
   "metadata": {},
   "source": [
    "## Exploratory Analysis and Visualization\n",
    "\n",
    "Before we can ask interesting questions about the datasat, it would help to understand the demographics like Types of crimes and their frequency, number of reports each year . It's important to explore these variable in order to understand the dataset to answer questions.\n",
    "\n",
    "Let's begin by importing matplotlib.pyplot and seaborn"
   ]
  },
  {
   "cell_type": "code",
   "execution_count": 21,
   "metadata": {},
   "outputs": [
    {
     "name": "stderr",
     "output_type": "stream",
     "text": [
      "C:\\Users\\ABHIJEET\\Anaconda3\\lib\\site-packages\\statsmodels\\tools\\_testing.py:19: FutureWarning: pandas.util.testing is deprecated. Use the functions in the public API at pandas.testing instead.\n",
      "  import pandas.util.testing as tm\n"
     ]
    }
   ],
   "source": [
    "import seaborn as sns\n",
    "import numpy as np\n",
    "import matplotlib\n",
    "import matplotlib.pyplot as plt\n",
    "\n",
    "sns.set_style('darkgrid')\n",
    "matplotlib.rcParams['font.size'] = 14\n",
    "matplotlib.rcParams['figure.figsize'] = (9, 5)\n",
    "matplotlib.rcParams['figure.facecolor'] = '#00000000'"
   ]
  },
  {
   "cell_type": "markdown",
   "metadata": {},
   "source": [
    "### Crimes\n",
    "The types of crimes that were reported in Cambridge."
   ]
  },
  {
   "cell_type": "code",
   "execution_count": 22,
   "metadata": {},
   "outputs": [
    {
     "data": {
      "text/plain": [
       "54"
      ]
     },
     "execution_count": 22,
     "metadata": {},
     "output_type": "execute_result"
    }
   ],
   "source": [
    "survey_df.Crime.nunique()"
   ]
  },
  {
   "cell_type": "code",
   "execution_count": 23,
   "metadata": {},
   "outputs": [
    {
     "data": {
      "text/plain": [
       "Larceny from MV           4837\n",
       "Hit and Run               4662\n",
       "Domestic Dispute          3909\n",
       "Mal. Dest. Property       3671\n",
       "Simple Assault            3295\n",
       "Larceny from Building     2857\n",
       "Shoplifting               2789\n",
       "Larceny of Bicycle        2750\n",
       "Housebreak                2676\n",
       "Forgery                   2584\n",
       "Warrant Arrest            2575\n",
       "Larceny from Person       2276\n",
       "Larceny from Residence    1743\n",
       "Aggravated Assault        1726\n",
       "Threats                   1637\n",
       "Auto Theft                1102\n",
       "Missing Person             950\n",
       "Flim Flam                  939\n",
       "Harassment                 816\n",
       "Street Robbery             759\n",
       "Drugs                      673\n",
       "Admin Error                660\n",
       "Accident                   627\n",
       "Commercial Break           584\n",
       "Phone Calls                450\n",
       "OUI                        387\n",
       "Suspicious Package         381\n",
       "Violation of R.O.          377\n",
       "Trespassing                359\n",
       "Disorderly                 306\n",
       "Name: Crime, dtype: int64"
      ]
     },
     "execution_count": 23,
     "metadata": {},
     "output_type": "execute_result"
    }
   ],
   "source": [
    "crime_count = survey_df.Crime.value_counts().head(30)\n",
    "crime_count"
   ]
  },
  {
   "cell_type": "code",
   "execution_count": 24,
   "metadata": {},
   "outputs": [
    {
     "data": {
      "image/png": "[encoded data removed]",
      "text/plain": [
       "<Figure size 864x432 with 1 Axes>"
      ]
     },
     "metadata": {
      "needs_background": "light"
     },
     "output_type": "display_data"
    }
   ],
   "source": [
    "plt.figure(figsize=(12,6))\n",
    "plt.xticks(rotation=90)\n",
    "plt.title(\"Crime types Reported\")\n",
    "sns.barplot(crime_count.index, crime_count);"
   ]
  },
  {
   "cell_type": "markdown",
   "metadata": {},
   "source": [
    "As we can see from the plot that most case reported in cambridge were of (Larcency from MV) followed by (Hit and Run) and (Domestic dispute)"
   ]
  },
  {
   "cell_type": "markdown",
   "metadata": {},
   "source": [
    "### Reports of Each Year\n",
    "Number of crimes reported each year from 2009 to 2016"
   ]
  },
  {
   "cell_type": "code",
   "execution_count": 25,
   "metadata": {},
   "outputs": [],
   "source": [
    "DOR=survey_df[\"Date of Report\"].copy()\n",
    "years=[\"2009\",\"2010\",\"2011\",\"2012\",\"2013\",\"2014\",\"2015\",\"2016\"]\n",
    "crime_count=[0,0,0,0,0,0,0,0]\n",
    "for i in range(0,8):\n",
    "    for date in DOR:\n",
    "        if(years[i] in date):\n",
    "            crime_count[i]+=1;"
   ]
  },
  {
   "cell_type": "code",
   "execution_count": 26,
   "metadata": {},
   "outputs": [
    {
     "data": {
      "text/plain": [
       "[7489, 7508, 7418, 7130, 6952, 7413, 7085, 5019]"
      ]
     },
     "execution_count": 26,
     "metadata": {},
     "output_type": "execute_result"
    }
   ],
   "source": [
    "crime_count"
   ]
  },
  {
   "cell_type": "code",
   "execution_count": 27,
   "metadata": {},
   "outputs": [
    {
     "data": {
      "image/png": "[encoded data removed]",
      "text/plain": [
       "<Figure size 864x432 with 1 Axes>"
      ]
     },
     "metadata": {
      "needs_background": "light"
     },
     "output_type": "display_data"
    }
   ],
   "source": [
    "plt.figure(figsize=(12,6))\n",
    "plt.xticks()\n",
    "plt.title(\"Crimes per Year\")\n",
    "sns.barplot(years, crime_count);"
   ]
  },
  {
   "cell_type": "markdown",
   "metadata": {},
   "source": [
    "The Plot shows number of cases Reported to the police each year from 2009 to 2016."
   ]
  },
  {
   "cell_type": "code",
   "execution_count": 28,
   "metadata": {},
   "outputs": [],
   "source": [
    "import jovian"
   ]
  },
  {
   "cell_type": "code",
   "execution_count": 29,
   "metadata": {},
   "outputs": [
    {
     "data": {
      "application/javascript": [
       "window.require && require([\"base/js/namespace\"],function(Jupyter){Jupyter.notebook.save_checkpoint()})"
      ],
      "text/plain": [
       "<IPython.core.display.Javascript object>"
      ]
     },
     "metadata": {},
     "output_type": "display_data"
    },
    {
     "name": "stdout",
     "output_type": "stream",
     "text": [
      "[jovian] Attempting to save notebook..\n",
      "[jovian] Updating notebook \"abhijeet-chatterjee2019/course-project-cambride-crime-dataset-analysis\" on https://jovian.ml/\n",
      "[jovian] Uploading notebook..\n",
      "[jovian] Capturing environment..\n",
      "[jovian] Committed successfully! https://jovian.ml/abhijeet-chatterjee2019/course-project-cambride-crime-dataset-analysis\n"
     ]
    },
    {
     "data": {
      "text/plain": [
       "'https://jovian.ml/abhijeet-chatterjee2019/course-project-cambride-crime-dataset-analysis'"
      ]
     },
     "execution_count": 29,
     "metadata": {},
     "output_type": "execute_result"
    }
   ],
   "source": [
    "jovian.commit()"
   ]
  },
  {
   "cell_type": "markdown",
   "metadata": {},
   "source": [
    "## Asking and Answering Questions\n",
    "\n",
    "We've already gained insights, simply by exploring individual columns of the dataset. Let's ask some specific questions, and try to answer them using data frame operations and interesting visualizations."
   ]
  },
  {
   "cell_type": "markdown",
   "metadata": {},
   "source": [
    "### Which is the neighbourhood where most Cases are reported?\n",
    "\n",
    "To answer this question we will calculate the unique elements in neighbourhood column of survey_df and alculate the frequency of each unique item and plot it. "
   ]
  },
  {
   "cell_type": "code",
   "execution_count": 30,
   "metadata": {},
   "outputs": [
    {
     "data": {
      "text/plain": [
       "13"
      ]
     },
     "execution_count": 30,
     "metadata": {},
     "output_type": "execute_result"
    }
   ],
   "source": [
    "survey_df.Neighborhood.nunique()"
   ]
  },
  {
   "cell_type": "code",
   "execution_count": 31,
   "metadata": {},
   "outputs": [
    {
     "data": {
      "text/plain": [
       "Cambridgeport       7830\n",
       "East Cambridge      7691\n",
       "Area 4              6025\n",
       "North Cambridge     5602\n",
       "West Cambridge      5544\n",
       "Mid-Cambridge       5496\n",
       "Riverside           5254\n",
       "Inman/Harrington    4195\n",
       "Peabody             3522\n",
       "Agassiz             1520\n",
       "Highlands           1203\n",
       "MIT                 1092\n",
       "Strawberry Hill     1038\n",
       "Name: Neighborhood, dtype: int64"
      ]
     },
     "execution_count": 31,
     "metadata": {},
     "output_type": "execute_result"
    }
   ],
   "source": [
    "neighbourhood_report = survey_df.Neighborhood.value_counts()\n",
    "neighbourhood_report"
   ]
  },
  {
   "cell_type": "code",
   "execution_count": 32,
   "metadata": {},
   "outputs": [
    {
     "data": {
      "image/png": "[encoded data removed]",
      "text/plain": [
       "<Figure size 864x432 with 1 Axes>"
      ]
     },
     "metadata": {
      "needs_background": "light"
     },
     "output_type": "display_data"
    }
   ],
   "source": [
    "plt.figure(figsize=(12,6))\n",
    "plt.xticks(rotation=90)\n",
    "plt.title(\"Crimes per neighbourhood\")\n",
    "sns.barplot(neighbourhood_report.index, neighbourhood_report);"
   ]
  },
  {
   "cell_type": "markdown",
   "metadata": {},
   "source": [
    "The Bar graph above shows that most cases reported in Cambridge are near Cambridgeport with count of 7830 reports, followed by East Cambridge with 7691 reports and Area 4 with 6025 reports.\n",
    "\n",
    "Hence Cambridgeport is the most crime-prone area in Cambridge and                                                                     Strawberry hills is the least crime-prone area in Cambridge."
   ]
  },
  {
   "cell_type": "code",
   "execution_count": 33,
   "metadata": {},
   "outputs": [
    {
     "data": {
      "image/png": "[encoded data removed]",
      "text/plain": [
       "<Figure size 864x432 with 1 Axes>"
      ]
     },
     "metadata": {},
     "output_type": "display_data"
    }
   ],
   "source": [
    "plt.figure(figsize=(12,6))\n",
    "plt.title(\"Crime Percentage in Various Areas of Cambridge\")\n",
    "plt.pie(neighbourhood_report, labels=neighbourhood_report.index, autopct='%1.1f%%', startangle=180);"
   ]
  },
  {
   "cell_type": "markdown",
   "metadata": {},
   "source": [
    "From the above pie chart it is clearly depicted that of all the crimes in Cambridge (14% crimes took place at CambridgePort), (13.7% crimes took place East Cambridge) and so on."
   ]
  },
  {
   "cell_type": "markdown",
   "metadata": {},
   "source": [
    "### Changes in the number of crimes reported over the years\n",
    "\n",
    "This question is answer to the variation in the number of crimes over the years 2009-2016 in Cambridge. "
   ]
  },
  {
   "cell_type": "code",
   "execution_count": 34,
   "metadata": {
    "scrolled": true
   },
   "outputs": [
    {
     "name": "stdout",
     "output_type": "stream",
     "text": [
      "Year:2009      Crime Reported:7489\n",
      "Year:2010      Crime Reported:7508\n",
      "Year:2011      Crime Reported:7418\n",
      "Year:2012      Crime Reported:7130\n",
      "Year:2013      Crime Reported:6952\n",
      "Year:2014      Crime Reported:7413\n",
      "Year:2015      Crime Reported:7085\n",
      "Year:2016      Crime Reported:5019\n"
     ]
    }
   ],
   "source": [
    "for i in range(0,8):\n",
    "    print(\"Year:\"+years[i]+\"      Crime Reported:\"+(str)(crime_count[i]))"
   ]
  },
  {
   "cell_type": "code",
   "execution_count": 35,
   "metadata": {},
   "outputs": [
    {
     "data": {
      "image/png": "[encoded data removed]",
      "text/plain": [
       "<Figure size 432x288 with 1 Axes>"
      ]
     },
     "metadata": {
      "needs_background": "light"
     },
     "output_type": "display_data"
    }
   ],
   "source": [
    "plt.plot(years,crime_count)\n",
    "plt.xlabel(\"Years\")\n",
    "plt.ylabel(\"Number of Crimes Reported\")\n",
    "plt.show()"
   ]
  },
  {
   "cell_type": "markdown",
   "metadata": {},
   "source": [
    "The above graph shows that the graph shows steady decrease till 2013, then there is a sudden rise in 2014 and then exponential decrease till 2016."
   ]
  },
  {
   "cell_type": "markdown",
   "metadata": {},
   "source": [
    "### Top 5 areas in Cambridge where most cases were reported\n",
    "\n",
    "To answer this we need to calculate the total cases reported in each area and plot it ."
   ]
  },
  {
   "cell_type": "code",
   "execution_count": 36,
   "metadata": {},
   "outputs": [
    {
     "data": {
      "text/plain": [
       "117"
      ]
     },
     "execution_count": 36,
     "metadata": {},
     "output_type": "execute_result"
    }
   ],
   "source": [
    "Report_Area=survey_df[\"Reporting Area\"].copy()\n",
    "Report_Area.nunique()"
   ]
  },
  {
   "cell_type": "code",
   "execution_count": 37,
   "metadata": {},
   "outputs": [
    {
     "data": {
      "text/plain": [
       "1002.0    2712\n",
       "102.0     2555\n",
       "501.0     2168\n",
       "105.0     1614\n",
       "411.0     1489\n",
       "Name: Reporting Area, dtype: int64"
      ]
     },
     "execution_count": 37,
     "metadata": {},
     "output_type": "execute_result"
    }
   ],
   "source": [
    "Reports_per_area=Report_Area.value_counts().head(5)\n",
    "Reports_per_area"
   ]
  },
  {
   "cell_type": "markdown",
   "metadata": {},
   "source": [
    "This shows that the Areas 1002,102,501,105,411 are the area from where majority of reports have been filed from. "
   ]
  },
  {
   "cell_type": "code",
   "execution_count": 38,
   "metadata": {},
   "outputs": [],
   "source": [
    "import jovian"
   ]
  },
  {
   "cell_type": "code",
   "execution_count": 39,
   "metadata": {
    "scrolled": true
   },
   "outputs": [
    {
     "data": {
      "application/javascript": [
       "window.require && require([\"base/js/namespace\"],function(Jupyter){Jupyter.notebook.save_checkpoint()})"
      ],
      "text/plain": [
       "<IPython.core.display.Javascript object>"
      ]
     },
     "metadata": {},
     "output_type": "display_data"
    },
    {
     "name": "stdout",
     "output_type": "stream",
     "text": [
      "[jovian] Attempting to save notebook..\n",
      "[jovian] Updating notebook \"abhijeet-chatterjee2019/course-project-cambride-crime-dataset-analysis\" on https://jovian.ml/\n",
      "[jovian] Uploading notebook..\n",
      "[jovian] Capturing environment..\n",
      "[jovian] Committed successfully! https://jovian.ml/abhijeet-chatterjee2019/course-project-cambride-crime-dataset-analysis\n"
     ]
    },
    {
     "data": {
      "text/plain": [
       "'https://jovian.ml/abhijeet-chatterjee2019/course-project-cambride-crime-dataset-analysis'"
      ]
     },
     "execution_count": 39,
     "metadata": {},
     "output_type": "execute_result"
    }
   ],
   "source": [
    "jovian.commit()"
   ]
  },
  {
   "cell_type": "markdown",
   "metadata": {},
   "source": [
    "## Inferences and Conclusion\n",
    "\n",
    "We've drawn many interesting inferences from the survey, here's a summary of the few of them-:\n"
   ]
  },
  {
   "cell_type": "markdown",
   "metadata": {},
   "source": [
    "1- There are 54 categories of crime are reported in Cambridge and Larcency from MV(Motor Vehicles) being most reported\n",
    "   category.\n",
    "  "
   ]
  },
  {
   "cell_type": "markdown",
   "metadata": {},
   "source": [
    "2- Among the 13 neighbourhoods in which Cambridge is divided most of the reports came from the CambridgePort area (about 14% of the total crime reported in the City were from this area) followed by\n",
    "   East Cambridge (with 13.7%) . As the port area is the most Busy and bustling area of the city, so chances of crime in this area is quite\n",
    "   high. Therefore as safety measure, extra forces should patrol this area."
   ]
  },
  {
   "cell_type": "markdown",
   "metadata": {},
   "source": [
    "3- The number of reporting of crimes were steadily decreasing till 2013, but in 2014 a sudden rise is observed maybe some orgnised crime would have happened. But then from 2015 to 2016 there is exponential decrease in crime. This proves the method the police force are using there is quite effective against crimes."
   ]
  },
  {
   "cell_type": "markdown",
   "metadata": {},
   "source": [
    "4- The area number 1002 of Cambridge, has quite high crime reporting so the patrols and civilians there should be on Alert."
   ]
  },
  {
   "cell_type": "code",
   "execution_count": 40,
   "metadata": {},
   "outputs": [],
   "source": [
    "import jovian"
   ]
  },
  {
   "cell_type": "code",
   "execution_count": 41,
   "metadata": {},
   "outputs": [
    {
     "data": {
      "application/javascript": [
       "window.require && require([\"base/js/namespace\"],function(Jupyter){Jupyter.notebook.save_checkpoint()})"
      ],
      "text/plain": [
       "<IPython.core.display.Javascript object>"
      ]
     },
     "metadata": {},
     "output_type": "display_data"
    },
    {
     "name": "stdout",
     "output_type": "stream",
     "text": [
      "[jovian] Attempting to save notebook..\n",
      "[jovian] Updating notebook \"abhijeet-chatterjee2019/course-project-cambride-crime-dataset-analysis\" on https://jovian.ml/\n",
      "[jovian] Uploading notebook..\n",
      "[jovian] Capturing environment..\n",
      "[jovian] Committed successfully! https://jovian.ml/abhijeet-chatterjee2019/course-project-cambride-crime-dataset-analysis\n"
     ]
    },
    {
     "data": {
      "text/plain": [
       "'https://jovian.ml/abhijeet-chatterjee2019/course-project-cambride-crime-dataset-analysis'"
      ]
     },
     "execution_count": 41,
     "metadata": {},
     "output_type": "execute_result"
    }
   ],
   "source": [
    "jovian.commit()"
   ]
  },
  {
   "cell_type": "markdown",
   "metadata": {},
   "source": [
    "## References and Future Work\n",
    "\n",
    "There is a lot of information that can be discovered using the dataset, and we've barely scratched the surface. Here are some ideas for further exploration:\n",
    "\n",
    "1-Compare the crime times and make sets of it, to see if crunch time when chances of crimes are high.                             \n",
    "2-Choose a different set of columns (we chose on 5 out of 7) to analyze other facets of the data using all 7 would give us more information.                                                                                                                   \n",
    "3-Compare the dataset of  years after 2016 with this dataset and identify chnges in reporting or new type of crimes being reported.                                                                                                                            \n",
    "\n",
    "\n",
    "References:                                                                                                                     \n",
    "Crime in Cambridge in 2009-2016: https://query.data.world/s/d4je5crtjeezijfa6j7oo5lov6ejxd                                     \n",
    "Pandas user guide: https://pandas.pydata.org/docs/user_guide/index.html                                                         \n",
    "Matplotlib user guide: https://matplotlib.org/3.3.1/users/index.html                                                           \n",
    "Seaborn user guide & tutorial: https://seaborn.pydata.org/tutorial.html "
   ]
  },
  {
   "cell_type": "code",
   "execution_count": 42,
   "metadata": {},
   "outputs": [],
   "source": [
    "import jovian"
   ]
  },
  {
   "cell_type": "code",
   "execution_count": null,
   "metadata": {},
   "outputs": [
    {
     "data": {
      "application/javascript": [
       "window.require && require([\"base/js/namespace\"],function(Jupyter){Jupyter.notebook.save_checkpoint()})"
      ],
      "text/plain": [
       "<IPython.core.display.Javascript object>"
      ]
     },
     "metadata": {},
     "output_type": "display_data"
    },
    {
     "name": "stdout",
     "output_type": "stream",
     "text": [
      "[jovian] Attempting to save notebook..\r\n"
     ]
    }
   ],
   "source": [
    "jovian.commit()"
   ]
  }
 ],
 "metadata": {
  "kernelspec": {
   "display_name": "Python 3",
   "language": "python",
   "name": "python3"
  },
  "language_info": {
   "codemirror_mode": {
    "name": "ipython",
    "version": 3
   },
   "file_extension": ".py",
   "mimetype": "text/x-python",
   "name": "python",
   "nbconvert_exporter": "python",
   "pygments_lexer": "ipython3",
   "version": "3.7.4"
  }
 },
 "nbformat": 4,
 "nbformat_minor": 4
}
